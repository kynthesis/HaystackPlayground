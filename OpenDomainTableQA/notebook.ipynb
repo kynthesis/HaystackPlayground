{
 "cells": [
  {
   "cell_type": "code",
   "execution_count": 1,
   "metadata": {},
   "outputs": [],
   "source": [
    "import logging\n",
    "\n",
    "logging.basicConfig(\n",
    "    format=\"%(levelname)s - %(name)s -  %(message)s\", level=logging.WARNING\n",
    ")\n",
    "logging.getLogger(\"haystack\").setLevel(logging.INFO)"
   ]
  },
  {
   "cell_type": "code",
   "execution_count": 2,
   "metadata": {},
   "outputs": [],
   "source": [
    "from haystack.utils import launch_es\n",
    "\n",
    "launch_es()"
   ]
  },
  {
   "cell_type": "code",
   "execution_count": 4,
   "metadata": {},
   "outputs": [],
   "source": [
    "import os\n",
    "from haystack.document_stores import ElasticsearchDocumentStore\n",
    "\n",
    "host = os.environ.get(\"ELASTICSEARCH_HOST\", \"localhost\")\n",
    "\n",
    "document_index = \"document\"\n",
    "document_store = ElasticsearchDocumentStore(\n",
    "    host=host, username=\"\", password=\"\", index=document_index\n",
    ")"
   ]
  },
  {
   "cell_type": "code",
   "execution_count": 6,
   "metadata": {},
   "outputs": [
    {
     "name": "stderr",
     "output_type": "stream",
     "text": [
      "INFO - haystack.utils.import_utils -  Fetching from https://s3.eu-central-1.amazonaws.com/deepset.ai-farm-qa/datasets/documents/table_text_dataset.zip to 'data/test_tables'\n"
     ]
    },
    {
     "data": {
      "text/plain": [
       "True"
      ]
     },
     "execution_count": 6,
     "metadata": {},
     "output_type": "execute_result"
    }
   ],
   "source": [
    "from haystack.utils import fetch_archive_from_http\n",
    "\n",
    "doc_dir = \"data/test_tables\"\n",
    "s3_url = \"https://s3.eu-central-1.amazonaws.com/deepset.ai-farm-qa/datasets/documents/table_text_dataset.zip\"\n",
    "fetch_archive_from_http(url=s3_url, output_dir=doc_dir)"
   ]
  },
  {
   "cell_type": "code",
   "execution_count": 7,
   "metadata": {},
   "outputs": [
    {
     "name": "stdout",
     "output_type": "stream",
     "text": [
      "                Opponent    M    W    L  T  NR   Win% First  Last\n",
      "0            Afghanistan    2    2    0  0   0  100.0  2012  2014\n",
      "1              Australia   98   32   62  1   3  34.21  1975  2017\n",
      "2             Bangladesh   35   31    4  0   0  88.57  1986  2015\n",
      "3                 Canada    2    2    0  0   0  100.0  1979  2011\n",
      "4                England   82   31   49  0   2  38.75  1974  2017\n",
      "5              Hong Kong    2    2    0  0   0  100.0  2004  2008\n",
      "6                  India  129   73   52  0   4   58.4  1978  2017\n",
      "7                Ireland    7    5    1  1   0  78.57  2007  2016\n",
      "8                  Kenya    6    6    0  0   0  100.0  1996  2011\n",
      "9                Namibia    1    1    0  0   0  100.0  2003  2003\n",
      "10           Netherlands    3    3    0  0   0  100.0  1996  2003\n",
      "11           New Zealand  103   53   47  1   2  52.97  1973  2018\n",
      "12              Scotland    3    3    0  0   0  100.0  1999  2013\n",
      "13          South Africa   73   25   47  0   1  34.72  1992  2017\n",
      "14             Sri Lanka  153   90   58  1   4  60.73  1975  2017\n",
      "15  United Arab Emirates    3    3    0  0   0  100.0  1994  2015\n",
      "16           West Indies  133   60   70  3   0  46.24  1975  2017\n",
      "17              Zimbabwe   59   52    4  1   2   92.1  1992  2018\n",
      "18             Total[12]  894  474  394  8  18  54.56  1973  2018\n",
      "{}\n"
     ]
    }
   ],
   "source": [
    "import json\n",
    "from haystack import Document\n",
    "import pandas as pd\n",
    "\n",
    "\n",
    "def read_tables(filename):\n",
    "    processed_tables = []\n",
    "    with open(filename) as tables:\n",
    "        tables = json.load(tables)\n",
    "        for key, table in tables.items():\n",
    "            current_columns = table[\"header\"]\n",
    "            current_rows = table[\"data\"]\n",
    "            current_df = pd.DataFrame(columns=current_columns, data=current_rows)\n",
    "            document = Document(content=current_df, content_type=\"table\", id=key)\n",
    "            processed_tables.append(document)\n",
    "\n",
    "    return processed_tables\n",
    "\n",
    "\n",
    "tables = read_tables(f\"{doc_dir}/tables.json\")\n",
    "document_store.write_documents(tables, index=document_index)\n",
    "\n",
    "print(tables[0].content)\n",
    "print(tables[0].meta)"
   ]
  },
  {
   "cell_type": "code",
   "execution_count": 8,
   "metadata": {},
   "outputs": [
    {
     "name": "stderr",
     "output_type": "stream",
     "text": [
      "INFO - haystack.modeling.utils -  Using devices: CUDA:0 - Number of GPUs: 1\n"
     ]
    },
    {
     "data": {
      "application/vnd.jupyter.widget-view+json": {
       "model_id": "c68105b7ec1d4e7487e92a2cc1500759",
       "version_major": 2,
       "version_minor": 0
      },
      "text/plain": [
       "Downloading (…)ce_transformers.json:   0%|          | 0.00/116 [00:00<?, ?B/s]"
      ]
     },
     "metadata": {},
     "output_type": "display_data"
    },
    {
     "name": "stderr",
     "output_type": "stream",
     "text": [
      "INFO - haystack.nodes.retriever.dense -  Init retriever using embeddings of model deepset/all-mpnet-base-v2-table\n"
     ]
    },
    {
     "data": {
      "application/vnd.jupyter.widget-view+json": {
       "model_id": "ea771c9e32394d3588e6c2bfccb24302",
       "version_major": 2,
       "version_minor": 0
      },
      "text/plain": [
       "Downloading (…)9b424/.gitattributes:   0%|          | 0.00/1.23k [00:00<?, ?B/s]"
      ]
     },
     "metadata": {},
     "output_type": "display_data"
    },
    {
     "data": {
      "application/vnd.jupyter.widget-view+json": {
       "model_id": "898d0f0818754a3b867b48ddbfd1f683",
       "version_major": 2,
       "version_minor": 0
      },
      "text/plain": [
       "Downloading (…)_Pooling/config.json:   0%|          | 0.00/190 [00:00<?, ?B/s]"
      ]
     },
     "metadata": {},
     "output_type": "display_data"
    },
    {
     "data": {
      "application/vnd.jupyter.widget-view+json": {
       "model_id": "3feffbc10a4d480e83c0e464d2d393bb",
       "version_major": 2,
       "version_minor": 0
      },
      "text/plain": [
       "Downloading (…)5a16e9b424/README.md:   0%|          | 0.00/2.42k [00:00<?, ?B/s]"
      ]
     },
     "metadata": {},
     "output_type": "display_data"
    },
    {
     "data": {
      "application/vnd.jupyter.widget-view+json": {
       "model_id": "1a844bf5d97b4f2f8898bde5d3a3a374",
       "version_major": 2,
       "version_minor": 0
      },
      "text/plain": [
       "Downloading (…)16e9b424/config.json:   0%|          | 0.00/576 [00:00<?, ?B/s]"
      ]
     },
     "metadata": {},
     "output_type": "display_data"
    },
    {
     "data": {
      "application/vnd.jupyter.widget-view+json": {
       "model_id": "4bcae36a1b80448789e288d1e7205d64",
       "version_major": 2,
       "version_minor": 0
      },
      "text/plain": [
       "Downloading (…)ce_transformers.json:   0%|          | 0.00/116 [00:00<?, ?B/s]"
      ]
     },
     "metadata": {},
     "output_type": "display_data"
    },
    {
     "data": {
      "application/vnd.jupyter.widget-view+json": {
       "model_id": "db306f69201b49bba2eb0e956548b45b",
       "version_major": 2,
       "version_minor": 0
      },
      "text/plain": [
       "Downloading pytorch_model.bin:   0%|          | 0.00/438M [00:00<?, ?B/s]"
      ]
     },
     "metadata": {},
     "output_type": "display_data"
    },
    {
     "data": {
      "application/vnd.jupyter.widget-view+json": {
       "model_id": "31543f39074f4400a703fd44ec48e665",
       "version_major": 2,
       "version_minor": 0
      },
      "text/plain": [
       "Downloading (…)nce_bert_config.json:   0%|          | 0.00/53.0 [00:00<?, ?B/s]"
      ]
     },
     "metadata": {},
     "output_type": "display_data"
    },
    {
     "data": {
      "application/vnd.jupyter.widget-view+json": {
       "model_id": "fa1287d7af924f48a68e6b6c11e06dee",
       "version_major": 2,
       "version_minor": 0
      },
      "text/plain": [
       "Downloading (…)cial_tokens_map.json:   0%|          | 0.00/239 [00:00<?, ?B/s]"
      ]
     },
     "metadata": {},
     "output_type": "display_data"
    },
    {
     "data": {
      "application/vnd.jupyter.widget-view+json": {
       "model_id": "369c99973e704e8fbc967f04f5b50e2a",
       "version_major": 2,
       "version_minor": 0
      },
      "text/plain": [
       "Downloading (…)9b424/tokenizer.json:   0%|          | 0.00/711k [00:00<?, ?B/s]"
      ]
     },
     "metadata": {},
     "output_type": "display_data"
    },
    {
     "data": {
      "application/vnd.jupyter.widget-view+json": {
       "model_id": "9b99a06b5e6349b3b708acffb99b6b8e",
       "version_major": 2,
       "version_minor": 0
      },
      "text/plain": [
       "Downloading (…)okenizer_config.json:   0%|          | 0.00/345 [00:00<?, ?B/s]"
      ]
     },
     "metadata": {},
     "output_type": "display_data"
    },
    {
     "data": {
      "application/vnd.jupyter.widget-view+json": {
       "model_id": "5c6ef2975768425d90edea9cd846fa58",
       "version_major": 2,
       "version_minor": 0
      },
      "text/plain": [
       "Downloading (…)5a16e9b424/vocab.txt:   0%|          | 0.00/232k [00:00<?, ?B/s]"
      ]
     },
     "metadata": {},
     "output_type": "display_data"
    },
    {
     "data": {
      "application/vnd.jupyter.widget-view+json": {
       "model_id": "feb8d2da96ab4c2fafef660976e04f08",
       "version_major": 2,
       "version_minor": 0
      },
      "text/plain": [
       "Downloading (…)6e9b424/modules.json:   0%|          | 0.00/349 [00:00<?, ?B/s]"
      ]
     },
     "metadata": {},
     "output_type": "display_data"
    },
    {
     "name": "stderr",
     "output_type": "stream",
     "text": [
      "/home/khoa/anaconda3/envs/haystack/lib/python3.10/site-packages/torch/_utils.py:776: UserWarning: TypedStorage is deprecated. It will be removed in the future and UntypedStorage will be the only storage class. This should only matter to you if you are using storages directly.  To access UntypedStorage directly, use tensor.untyped_storage() instead of tensor.storage()\n",
      "  return self.fget.__get__(instance, owner)()\n"
     ]
    }
   ],
   "source": [
    "from haystack.nodes.retriever import EmbeddingRetriever\n",
    "\n",
    "retriever = EmbeddingRetriever(\n",
    "    document_store=document_store, embedding_model=\"deepset/all-mpnet-base-v2-table\"\n",
    ")"
   ]
  },
  {
   "cell_type": "code",
   "execution_count": 9,
   "metadata": {},
   "outputs": [
    {
     "name": "stderr",
     "output_type": "stream",
     "text": [
      "/home/khoa/anaconda3/envs/haystack/lib/python3.10/site-packages/elasticsearch/connection/base.py:200: ElasticsearchWarning: Elasticsearch built-in security features are not enabled. Without authentication, your cluster could be accessible to anyone. See https://www.elastic.co/guide/en/elasticsearch/reference/7.17/security-minimal-setup.html to enable security.\n",
      "  warnings.warn(message, category=ElasticsearchWarning)\n",
      "INFO - haystack.document_stores.search_engine -  Updating embeddings for all 3235 docs ...\n"
     ]
    },
    {
     "data": {
      "application/vnd.jupyter.widget-view+json": {
       "model_id": "8c07ad586b534cba933ec2bbe8d77755",
       "version_major": 2,
       "version_minor": 0
      },
      "text/plain": [
       "Updating embeddings:   0%|          | 0/3235 [00:00<?, ? Docs/s]"
      ]
     },
     "metadata": {},
     "output_type": "display_data"
    },
    {
     "data": {
      "application/vnd.jupyter.widget-view+json": {
       "model_id": "56ee4825db5d452cbde7eda42e113b64",
       "version_major": 2,
       "version_minor": 0
      },
      "text/plain": [
       "Batches:   0%|          | 0/102 [00:00<?, ?it/s]"
      ]
     },
     "metadata": {},
     "output_type": "display_data"
    }
   ],
   "source": [
    "document_store.update_embeddings(retriever=retriever)"
   ]
  },
  {
   "cell_type": "code",
   "execution_count": 10,
   "metadata": {},
   "outputs": [
    {
     "data": {
      "application/vnd.jupyter.widget-view+json": {
       "model_id": "e870be75bc5144d0937cde6760d60db1",
       "version_major": 2,
       "version_minor": 0
      },
      "text/plain": [
       "Batches:   0%|          | 0/1 [00:00<?, ?it/s]"
      ]
     },
     "metadata": {},
     "output_type": "display_data"
    },
    {
     "name": "stdout",
     "output_type": "stream",
     "text": [
      "                     Year                   Coach              Super Bowl   \n",
      "0                    1966          Vince Lombardi                       I  \\\n",
      "1                    1967          Vince Lombardi                      II   \n",
      "2                    1996           Mike Holmgren                    XXXI   \n",
      "3                    2010           Mike McCarthy                     XLV   \n",
      "4  Total Super Bowls won:  Total Super Bowls won:  Total Super Bowls won:   \n",
      "\n",
      "                  Location                Opponent  Score Record  \n",
      "0  Los Angeles, California      Kansas City Chiefs  35–10   12–2  \n",
      "1           Miami, Florida         Oakland Raiders  33–14  9–4–1  \n",
      "2   New Orleans, Louisiana    New England Patriots  35–21   13–3  \n",
      "3         Arlington, Texas     Pittsburgh Steelers  31–25   10–6  \n",
      "4   Total Super Bowls won:  Total Super Bowls won:      4      4  \n"
     ]
    }
   ],
   "source": [
    "retrieved_tables = retriever.retrieve(\"Who won the Super Bowl?\", top_k=5)\n",
    "\n",
    "print(retrieved_tables[0].content)"
   ]
  },
  {
   "cell_type": "code",
   "execution_count": 11,
   "metadata": {},
   "outputs": [
    {
     "name": "stderr",
     "output_type": "stream",
     "text": [
      "WARNING - haystack.nodes.reader.table -  The support for returning offsets in answer predictions in a linear fashion is being deprecated. Set return_table_cell=True to use the new offsets format which returns the row and column indices of the table cells selected in the answer. In the future, return_table_cell=True will become default and return_table_cell=False will no  longer be supported.\n",
      "INFO - haystack.modeling.utils -  Using devices: CUDA:0 - Number of GPUs: 1\n"
     ]
    },
    {
     "data": {
      "application/vnd.jupyter.widget-view+json": {
       "model_id": "20ba253663d642f0bb10672abec5356c",
       "version_major": 2,
       "version_minor": 0
      },
      "text/plain": [
       "Downloading (…)lve/main/config.json:   0%|          | 0.00/1.66k [00:00<?, ?B/s]"
      ]
     },
     "metadata": {},
     "output_type": "display_data"
    },
    {
     "data": {
      "application/vnd.jupyter.widget-view+json": {
       "model_id": "fe9724e31a534be7bdbae9d75c5f6a3a",
       "version_major": 2,
       "version_minor": 0
      },
      "text/plain": [
       "Downloading pytorch_model.bin:   0%|          | 0.00/443M [00:00<?, ?B/s]"
      ]
     },
     "metadata": {},
     "output_type": "display_data"
    },
    {
     "data": {
      "application/vnd.jupyter.widget-view+json": {
       "model_id": "28a36b8fd65a417b82fb76fce42decd4",
       "version_major": 2,
       "version_minor": 0
      },
      "text/plain": [
       "Downloading (…)solve/main/vocab.txt:   0%|          | 0.00/262k [00:00<?, ?B/s]"
      ]
     },
     "metadata": {},
     "output_type": "display_data"
    },
    {
     "data": {
      "application/vnd.jupyter.widget-view+json": {
       "model_id": "ed7f85f65853424bb6799a2f2185218e",
       "version_major": 2,
       "version_minor": 0
      },
      "text/plain": [
       "Downloading (…)cial_tokens_map.json:   0%|          | 0.00/154 [00:00<?, ?B/s]"
      ]
     },
     "metadata": {},
     "output_type": "display_data"
    },
    {
     "data": {
      "application/vnd.jupyter.widget-view+json": {
       "model_id": "50ece95ddd36429091d5a0fe7890a093",
       "version_major": 2,
       "version_minor": 0
      },
      "text/plain": [
       "Downloading (…)okenizer_config.json:   0%|          | 0.00/490 [00:00<?, ?B/s]"
      ]
     },
     "metadata": {},
     "output_type": "display_data"
    }
   ],
   "source": [
    "from haystack.nodes import TableReader\n",
    "\n",
    "reader = TableReader(\n",
    "    model_name_or_path=\"google/tapas-base-finetuned-wtq\", max_seq_len=512\n",
    ")"
   ]
  },
  {
   "cell_type": "code",
   "execution_count": 12,
   "metadata": {},
   "outputs": [
    {
     "name": "stdout",
     "output_type": "stream",
     "text": [
      "                  Name        Program           Role       Salary     Year   \n",
      "0         Simon Cowell   The X Factor          Judge  $75 million  2012–13  \\\n",
      "1       Britney Spears  American Idol    $25 million      2017–18     [15]   \n",
      "2       Jennifer Lopez    $20 million        2011–12         [16]      nan   \n",
      "3         Mariah Carey    $18 million        2012–13         [17]      nan   \n",
      "4          Hugh Laurie          House  Gregory House  $15 million     2013   \n",
      "5        Ryan Seacrest  American Idol           Host      2013–16     [14]   \n",
      "6           Katy Perry   The X Factor          Judge         2012     [17]   \n",
      "7          Miley Cyrus      The Voice          Coach  $13 million  2016–17   \n",
      "8          Adam Levine        2016–18           [18]          nan      nan   \n",
      "9        Blake Shelton        2016–18           [18]          nan      nan   \n",
      "10  Christina Aguilera  $12.5 million           2013         [19]      nan   \n",
      "11      Kelly Clarkson    $12 million           2018         [20]      nan   \n",
      "12             Shakira           2013           [19]          nan      nan   \n",
      "13        Gwen Stefani           2017           [21]          nan      nan   \n",
      "14         Nicki Minaj  American Idol          Judge      2012–13     [19]   \n",
      "\n",
      "    Ref.  \n",
      "0   [14]  \n",
      "1    nan  \n",
      "2    nan  \n",
      "3    nan  \n",
      "4   [14]  \n",
      "5    nan  \n",
      "6    nan  \n",
      "7   [18]  \n",
      "8    nan  \n",
      "9    nan  \n",
      "10   nan  \n",
      "11   nan  \n",
      "12   nan  \n",
      "13   nan  \n",
      "14   nan  \n"
     ]
    },
    {
     "name": "stderr",
     "output_type": "stream",
     "text": [
      "/home/khoa/anaconda3/envs/haystack/lib/python3.10/site-packages/elasticsearch/connection/base.py:200: ElasticsearchWarning: Elasticsearch built-in security features are not enabled. Without authentication, your cluster could be accessible to anyone. See https://www.elastic.co/guide/en/elasticsearch/reference/7.17/security-minimal-setup.html to enable security.\n",
      "  warnings.warn(message, category=ElasticsearchWarning)\n"
     ]
    }
   ],
   "source": [
    "table_doc = document_store.get_document_by_id(\"36964e90-3735-4ba1-8e6a-bec236e88bb2\")\n",
    "print(table_doc.content)"
   ]
  },
  {
   "cell_type": "code",
   "execution_count": 13,
   "metadata": {},
   "outputs": [
    {
     "name": "stdout",
     "output_type": "stream",
     "text": [
      "'Query: Who played Gregory House in the series House?'\n",
      "'Answers:'\n",
      "[   <Answer {'answer': 'Hugh Laurie', 'type': 'extractive', 'score': 1.0, 'context':                   Name        Program           Role       Salary     Year   \n",
      "0         Simon Cowell   The X Factor          Judge  $75 million  2012–13  \\\n",
      "1       Britney Spears  American Idol    $25 million      2017–18     [15]   \n",
      "2       Jennifer Lopez    $20 million        2011–12         [16]      nan   \n",
      "3         Mariah Carey    $18 million        2012–13         [17]      nan   \n",
      "4          Hugh Laurie          House  Gregory House  $15 million     2013   \n",
      "5        Ryan Seacrest  American Idol           Host      2013–16     [14]   \n",
      "6           Katy Perry   The X Factor          Judge         2012     [17]   \n",
      "7          Miley Cyrus      The Voice          Coach  $13 million  2016–17   \n",
      "8          Adam Levine        2016–18           [18]          nan      nan   \n",
      "9        Blake Shelton        2016–18           [18]          nan      nan   \n",
      "10  Christina Aguilera  $12.5 million           2013         [19]      nan   \n",
      "11      Kelly Clarkson    $12 million           2018         [20]      nan   \n",
      "12             Shakira           2013           [19]          nan      nan   \n",
      "13        Gwen Stefani           2017           [21]          nan      nan   \n",
      "14         Nicki Minaj  American Idol          Judge      2012–13     [19]   \n",
      "\n",
      "    Ref.  \n",
      "0   [14]  \n",
      "1    nan  \n",
      "2    nan  \n",
      "3    nan  \n",
      "4   [14]  \n",
      "5    nan  \n",
      "6    nan  \n",
      "7   [18]  \n",
      "8    nan  \n",
      "9    nan  \n",
      "10   nan  \n",
      "11   nan  \n",
      "12   nan  \n",
      "13   nan  \n",
      "14   nan  , 'offsets_in_document': [{'start': 24, 'end': 25}], 'offsets_in_context': [{'start': 24, 'end': 25}], 'document_ids': ['36964e90-3735-4ba1-8e6a-bec236e88bb2'], 'meta': {'aggregation_operator': 'NONE', 'answer_cells': ['Hugh Laurie']}}>]\n"
     ]
    }
   ],
   "source": [
    "from haystack.utils import print_answers\n",
    "\n",
    "prediction = reader.predict(\n",
    "    query=\"Who played Gregory House in the series House?\", documents=[table_doc]\n",
    ")\n",
    "print_answers(prediction, details=\"all\")"
   ]
  },
  {
   "cell_type": "code",
   "execution_count": 14,
   "metadata": {},
   "outputs": [
    {
     "name": "stdout",
     "output_type": "stream",
     "text": [
      "Predicted answer: Hugh Laurie\n",
      "Meta field: {'aggregation_operator': 'NONE', 'answer_cells': ['Hugh Laurie']}\n"
     ]
    }
   ],
   "source": [
    "print(f\"Predicted answer: {prediction['answers'][0].answer}\")\n",
    "print(f\"Meta field: {prediction['answers'][0].meta}\")"
   ]
  },
  {
   "cell_type": "code",
   "execution_count": 15,
   "metadata": {},
   "outputs": [],
   "source": [
    "from haystack import Pipeline\n",
    "\n",
    "table_qa_pipeline = Pipeline()\n",
    "table_qa_pipeline.add_node(\n",
    "    component=retriever, name=\"EmbeddingRetriever\", inputs=[\"Query\"]\n",
    ")\n",
    "table_qa_pipeline.add_node(\n",
    "    component=reader, name=\"TableReader\", inputs=[\"EmbeddingRetriever\"]\n",
    ")"
   ]
  },
  {
   "cell_type": "code",
   "execution_count": 16,
   "metadata": {},
   "outputs": [
    {
     "data": {
      "application/vnd.jupyter.widget-view+json": {
       "model_id": "29c46b83d4da497cb07fc9b4440790cb",
       "version_major": 2,
       "version_minor": 0
      },
      "text/plain": [
       "Batches:   0%|          | 0/1 [00:00<?, ?it/s]"
      ]
     },
     "metadata": {},
     "output_type": "display_data"
    },
    {
     "name": "stderr",
     "output_type": "stream",
     "text": [
      "/home/khoa/anaconda3/envs/haystack/lib/python3.10/site-packages/elasticsearch/connection/base.py:200: ElasticsearchWarning: Elasticsearch built-in security features are not enabled. Without authentication, your cluster could be accessible to anyone. See https://www.elastic.co/guide/en/elasticsearch/reference/7.17/security-minimal-setup.html to enable security.\n",
      "  warnings.warn(message, category=ElasticsearchWarning)\n",
      "WARNING - haystack.nodes.reader.table -  Skipping document with id 'b94026a1047dc4d0549d7eaeb5e28b5f' in TableReader as it is not of type table.\n",
      "WARNING - haystack.nodes.reader.table -  Skipping document with id '432a50b9ee1413291709dd1018cb90bb' in TableReader as it is not of type table.\n",
      "WARNING - haystack.nodes.reader.table -  Skipping document with id '99f9f30af4609864fbed41692502514a' in TableReader as it is not of type table.\n"
     ]
    },
    {
     "name": "stdout",
     "output_type": "stream",
     "text": [
      "'Query: When was Guilty Gear Xrd : Sign released?'\n",
      "'Answers:'\n",
      "[   {   'answer': 'December 16 , 2014',\n",
      "        'context':                                         Title       First release   \n",
      "0                      Guilty Gear Xrd : Sign  December 16 , 2014  \\\n",
      "1          BlazBlue : Chrono Phantasma Extend      June 30 , 2015   \n",
      "2         Aegis of Earth : Protonovus Assault     March 15 , 2016   \n",
      "3                  BlazBlue : Central Fiction    October 6 , 2016   \n",
      "4     Chronicles of Teddy : Harmony of Exidus     March 29 , 2016   \n",
      "5                 Guilty Gear Xrd : Revelator       June 7 , 2016   \n",
      "6   Exist Archive : The Other Side of the Sky   October 18 , 2016   \n",
      "7                     Guilty Gear Xrd : Rev 2       May 25 , 2017   \n",
      "8      Under Night In-Birth Exe : Late [ st ]           Late 2017   \n",
      "9                   School Girl/Zombie Hunter           Late 2017   \n",
      "10                           Tokyo Xanadu eX+                2017   \n",
      "11       Code : Realize ~Bouquet of Rainbows~                2018   \n",
      "12                                 Death Mark                2018   \n",
      "13                        NG ( Visual Novel )                2019   \n",
      "\n",
      "                  Developer ( s )         Platform ( s )  \n",
      "0                Arc System Works          PlayStation 4  \n",
      "1                Arc System Works          PlayStation 4  \n",
      "2                         Acquire          PlayStation 4  \n",
      "3                Arc System Works          PlayStation 4  \n",
      "4                    LookAtMyGame  PlayStation 4 ( PSN )  \n",
      "5                Arc System Works          PlayStation 4  \n",
      "6        Spike Chunsoft , tri-Ace          PlayStation 4  \n",
      "7                Arc System Works          PlayStation 4  \n",
      "8   Ecole Software , French Bread          PlayStation 4  \n",
      "9                         Tamsoft          PlayStation 4  \n",
      "10                         Falcom          PlayStation 4  \n",
      "11                        Otomate          PlayStation 4  \n",
      "12                 Experience Inc          PlayStation 4  \n",
      "13                 Experience Inc          PlayStation 4  },\n",
      "    {   'answer': 'October 7 , 2008',\n",
      "        'context':                                                            Title   \n",
      "0                                                Battle Fantasia  \\\n",
      "1                                       Guilty Gear 2 : Overture   \n",
      "2                                    BlazBlue : Calamity Trigger   \n",
      "3                                                  0-D Beat Drop   \n",
      "4                                          Record of Agarest War   \n",
      "5                                                    DeathSmiles   \n",
      "6                                     BlazBlue : Continuum Shift   \n",
      "7                                     Record of Agarest War Zero   \n",
      "8  Bit.Trip Presents ... Runner2 : Future Legend of Rhythm Alien   \n",
      "9                                 A.R.E.S : Extinction Agenda EX   \n",
      "\n",
      "         First release                    Developer ( s )     Platform ( s )  \n",
      "0  September 16 , 2008                   Arc System Works           Xbox 360  \n",
      "1     October 7 , 2008                   Arc System Works           Xbox 360  \n",
      "2       June 30 , 2009                   Arc System Works           Xbox 360  \n",
      "3   November 11 , 2009                       Cyclone Zero  Xbox 360 ( XBLA )  \n",
      "4      April 27 , 2010  Compile Heart , Red Entertainment           Xbox 360  \n",
      "5       June 28 , 2010                               Cave           Xbox 360  \n",
      "6       July 27 , 2010                   Arc System Works           Xbox 360  \n",
      "7       June 14 , 2011  Compile Heart , Red Entertainment           Xbox 360  \n",
      "8   February 27 , 2013                       Gaijin Games  Xbox 360 ( XBLA )  \n",
      "9     October 2 , 2013                      Extend Studio  Xbox 360 ( XBLA )  },\n",
      "    {   'answer': 'April 7 , 2009',\n",
      "        'context':                                       Title        First release   \n",
      "0           Guilty Gear XX Accent Core Plus       April 7 , 2009  \\\n",
      "1      BlazBlue : Calamity Trigger Portable   February 25 , 2010   \n",
      "2                            Cho Aniki Zero      March 25 , 2010   \n",
      "3                     Mimana Iyar Chronicle      March 30 , 2010   \n",
      "4                          Gladiator Begins  September 14 , 2010   \n",
      "5                    Blazing Souls Accelate    October 19 , 2010   \n",
      "6              Jikandia : The Timeless Land      March 15 , 2011   \n",
      "7             BlazBlue : Continuum Shift II        May 31 , 2011   \n",
      "8                                Fate/Extra    November 1 , 2011   \n",
      "9   Hakuoki : Demon of the Fleeting Blossom   February 14 , 2012   \n",
      "10    Hakuoki : Warriors of the Shinsengumi    November 6 , 2012   \n",
      "11                         Ragnarok Tactics   February 19 , 2013   \n",
      "12                Sweet Fuse : At Your Side     August 27 , 2013   \n",
      "\n",
      "                                     Developer ( s )   \n",
      "0                                   Arc System Works  \\\n",
      "1                                   Arc System Works   \n",
      "2                                  extreme Co. , Ltd   \n",
      "3                     Kogado Studio , Premium Agency   \n",
      "4                                             Goshow   \n",
      "5                                          Neverland   \n",
      "6                                    Opus Studio Inc   \n",
      "7                                   Arc System Works   \n",
      "8                                          Type-Moon   \n",
      "9                             Idea Factory , Otomate   \n",
      "10                                      Idea Factory   \n",
      "11  GungHo Online Entertainment , Apollosoft , Chime   \n",
      "12                  Idea Factory , Otomate , Comcept   \n",
      "\n",
      "                  Platform ( s )  \n",
      "0           PlayStation Portable  \n",
      "1           PlayStation Portable  \n",
      "2   PlayStation Portable ( PSN )  \n",
      "3           PlayStation Portable  \n",
      "4           PlayStation Portable  \n",
      "5           PlayStation Portable  \n",
      "6           PlayStation Portable  \n",
      "7           PlayStation Portable  \n",
      "8           PlayStation Portable  \n",
      "9           PlayStation Portable  \n",
      "10          PlayStation Portable  \n",
      "11          PlayStation Portable  \n",
      "12          PlayStation Portable  },\n",
      "    {   'answer': 'April 7 , 2009',\n",
      "        'context':                                       Title        First release   \n",
      "0           Guilty Gear XX Accent Core Plus       April 7 , 2009  \\\n",
      "1      BlazBlue : Calamity Trigger Portable   February 25 , 2010   \n",
      "2                            Cho Aniki Zero      March 25 , 2010   \n",
      "3                     Mimana Iyar Chronicle      March 30 , 2010   \n",
      "4                          Gladiator Begins  September 14 , 2010   \n",
      "5                    Blazing Souls Accelate    October 19 , 2010   \n",
      "6              Jikandia : The Timeless Land      March 15 , 2011   \n",
      "7             BlazBlue : Continuum Shift II        May 31 , 2011   \n",
      "8                                Fate/Extra    November 1 , 2011   \n",
      "9   Hakuoki : Demon of the Fleeting Blossom   February 14 , 2012   \n",
      "10    Hakuoki : Warriors of the Shinsengumi    November 6 , 2012   \n",
      "11                         Ragnarok Tactics   February 19 , 2013   \n",
      "12                Sweet Fuse : At Your Side     August 27 , 2013   \n",
      "\n",
      "                                     Developer ( s )   \n",
      "0                                   Arc System Works  \\\n",
      "1                                   Arc System Works   \n",
      "2                                  extreme Co. , Ltd   \n",
      "3                     Kogado Studio , Premium Agency   \n",
      "4                                             Goshow   \n",
      "5                                          Neverland   \n",
      "6                                    Opus Studio Inc   \n",
      "7                                   Arc System Works   \n",
      "8                                          Type-Moon   \n",
      "9                             Idea Factory , Otomate   \n",
      "10                                      Idea Factory   \n",
      "11  GungHo Online Entertainment , Apollosoft , Chime   \n",
      "12                  Idea Factory , Otomate , Comcept   \n",
      "\n",
      "                  Platform ( s )  \n",
      "0           PlayStation Portable  \n",
      "1           PlayStation Portable  \n",
      "2   PlayStation Portable ( PSN )  \n",
      "3           PlayStation Portable  \n",
      "4           PlayStation Portable  \n",
      "5           PlayStation Portable  \n",
      "6           PlayStation Portable  \n",
      "7           PlayStation Portable  \n",
      "8           PlayStation Portable  \n",
      "9           PlayStation Portable  \n",
      "10          PlayStation Portable  \n",
      "11          PlayStation Portable  \n",
      "12          PlayStation Portable  },\n",
      "    {   'answer': 'November 15 , 2007',\n",
      "        'context':                                     Title        First release   \n",
      "0            Hooked ! Real Motion Fishing    October 30 , 2007  \\\n",
      "1              Guilty Gear XX Accent Core   November 15 , 2007   \n",
      "2           MiniCopter : Adventure Flight      April 11 , 2008   \n",
      "3                       River City Ransom      April 21 , 2008   \n",
      "4                           Double Dragon      April 28 , 2008   \n",
      "5                                Renegade         May 5 , 2008   \n",
      "6                 Castle of Shikigami III        May 13 , 2008   \n",
      "7                     Family Table Tennis        May 26 , 2008   \n",
      "8                        Super Dodge Ball  September 22 , 2008   \n",
      "9                     Family Glide Hockey    January 19 , 2009   \n",
      "10                          Bit.Trip Beat      March 16 , 2009   \n",
      "11                    Family Pirate Party        May 11 , 2009   \n",
      "12        Guilty Gear XX Accent Core Plus        May 12 , 2009   \n",
      "13                       Family Mini Golf       June 22 , 2009   \n",
      "14                          Bit.Trip Core        July 6 , 2009   \n",
      "15                 Family Slot Car Racing     August 17 , 2009   \n",
      "16  Crash ' n the Boys : Street Challenge  September 14 , 2009   \n",
      "17                          Family Tennis  September 21 , 2009   \n",
      "18                      Family Card Games    November 2 , 2009   \n",
      "19   Hooked ! Again : Real Motion Fishing    November 3 , 2009   \n",
      "\n",
      "     Developer ( s )           Platform ( s )  \n",
      "0               SIMS                      Wii  \n",
      "1   Arc System Works                      Wii  \n",
      "2      Sonic Powered                      Wii  \n",
      "3            Technos  Wii ( Virtual Console )  \n",
      "4            Technos  Wii ( Virtual Console )  \n",
      "5            Technos  Wii ( Virtual Console )  \n",
      "6        Alfa System                      Wii  \n",
      "7   Arc System Works          Wii ( WiiWare )  \n",
      "8            Technos  Wii ( Virtual Console )  \n",
      "9   Arc System Works          Wii ( WiiWare )  \n",
      "10      Gaijin Games          Wii ( WiiWare )  \n",
      "11  Arc System Works          Wii ( WiiWare )  \n",
      "12  Arc System Works                      Wii  \n",
      "13  Arc System Works          Wii ( WiiWare )  \n",
      "14      Gaijin Games          Wii ( WiiWare )  \n",
      "15  Arc System Works          Wii ( WiiWare )  \n",
      "16           Technos  Wii ( Virtual Console )  \n",
      "17  Arc System Works          Wii ( WiiWare )  \n",
      "18  Arc System Works          Wii ( WiiWare )  \n",
      "19    SIMS Co. , Ltd                      Wii  },\n",
      "    {   'answer': 'September 12, 2001',\n",
      "        'context':          Country                Date                           Label   \n",
      "0  United States  September 12, 2001  Ma-Kahru / Profane Productions  \\\n",
      "1         Sweden                2004         Total Holocaust Records   \n",
      "2         Sweden                2004         Total Holocaust Records   \n",
      "3         France     August 31, 2004             Debemur Morti Prod.   \n",
      "4  United States    January 29, 2008              Hydra Head Records   \n",
      "\n",
      "                                Format     Catalog Nr.  \n",
      "0               mono CD-R (150 copies)  profanecdr 001  \n",
      "1                 ed Remaster cassette         thr-048  \n",
      "2         ed Remaster CD (1000 copies)         thr-050  \n",
      "3  ed Remaster double-12\" (500 copies)         DMP0003  \n",
      "4                            double CD       HH666-150  },\n",
      "    {   'answer': 'September 12, 2001',\n",
      "        'context':          Country                Date                           Label   \n",
      "0  United States  September 12, 2001  Ma-Kahru / Profane Productions  \\\n",
      "1         Sweden                2004         Total Holocaust Records   \n",
      "2         Sweden                2004         Total Holocaust Records   \n",
      "3         France     August 31, 2004             Debemur Morti Prod.   \n",
      "4  United States    January 29, 2008              Hydra Head Records   \n",
      "\n",
      "                                Format     Catalog Nr.  \n",
      "0               mono CD-R (150 copies)  profanecdr 001  \n",
      "1                 ed Remaster cassette         thr-048  \n",
      "2         ed Remaster CD (1000 copies)         thr-050  \n",
      "3  ed Remaster double-12\" (500 copies)         DMP0003  \n",
      "4                            double CD       HH666-150  },\n",
      "    {   'answer': '7 May 2013 (hardcover)',\n",
      "        'context':      #                  Title      Publisher   \n",
      "0    1        Dead Until Dark      Ace Books  \\\n",
      "1    2  Living Dead in Dallas      Ace Books   \n",
      "2    3              Club Dead      Ace Books   \n",
      "3    4      Dead to the World  Ace Hardcover   \n",
      "4    5     Dead as a Doornail  Ace Hardcover   \n",
      "5    6        Definitely Dead  Ace Hardcover   \n",
      "6    7      All Together Dead  Ace Hardcover   \n",
      "7    8     From Dead to Worse  Ace Hardcover   \n",
      "8    9          Dead and Gone  Ace Hardcover   \n",
      "9   10     Dead in the Family  Ace Hardcover   \n",
      "10  11         Dead Reckoning  Ace Hardcover   \n",
      "11  12             Deadlocked  Ace Hardcover   \n",
      "12  13        Dead Ever After  Ace Hardcover   \n",
      "\n",
      "                                            Release  Length   \n",
      "0     May 2001 (paperback) January 2008 (hardcover)  291 pp  \\\n",
      "1   April 2002 (paperback) January 2009 (hardcover)  291 pp   \n",
      "2       May 2003 (paperback) March 2010 (hardcover)  292 pp   \n",
      "3         May 2004 (hardcover) May 2005 (paperback)  291 pp   \n",
      "4       May 2005 (hardcover) April 2006 (paperback)  295 pp   \n",
      "5       May 2006 (hardcover) March 2007 (paperback)  324 pp   \n",
      "6       May 2007 (hardcover) March 2008 (paperback)  336 pp   \n",
      "7       May 2008 (hardcover) March 2009 (paperback)  359 pp   \n",
      "8       May 2009 (hardcover) April 2010 (paperback)  312 pp   \n",
      "9       May 2010 (hardcover) March 2011 (paperback)  311 pp   \n",
      "10      May 2011 (hardcover) March 2012 (paperback)  325 pp   \n",
      "11      May 2012 (hardcover) March 2013 (paperback)  336 pp   \n",
      "12                           7 May 2013 (hardcover)  352 pp   \n",
      "\n",
      "             Hardcover           Paperback  \n",
      "0   ISBN 0-441-01597-2  ISBN 0-441-00853-4  \n",
      "1   ISBN 0-441-01673-1  ISBN 0-441-00923-9  \n",
      "2   ISBN 0-441-01910-2  ISBN 0-441-01051-2  \n",
      "3   ISBN 0-441-01167-5  ISBN 0-441-01218-3  \n",
      "4   ISBN 0-441-01279-5  ISBN 0-441-01333-3  \n",
      "5   ISBN 0-441-01400-3  ISBN 0-441-01491-7  \n",
      "6   ISBN 0-441-01494-1  ISBN 0-441-01581-6  \n",
      "7   ISBN 0-441-01589-1  ISBN 0-441-01701-0  \n",
      "8   ISBN 0-441-01715-0  ISBN 0-441-01851-3  \n",
      "9   ISBN 0-441-01864-5  ISBN 0-441-02015-1  \n",
      "10  ISBN 0-441-02031-3  ISBN 0-441-02060-7  \n",
      "11  ISBN 1-937007-44-8  ISBN 0-425-25638-3  \n",
      "12     ISBN 193700788X            ISBN n/a  },\n",
      "    {   'answer': '2012',\n",
      "        'context':                                   Title  Year   \n",
      "0                   The American Scream  2012  \\\n",
      "1                            Dead Souls  2012   \n",
      "2                                 Ghoul  2012   \n",
      "3                               Beneath  2013   \n",
      "4   Chilling Visions : 5 Senses of Fear  2013   \n",
      "5                     The Monkey 's Paw  2013   \n",
      "6                                Animal  2014   \n",
      "7                  Deep in the Darkness  2014   \n",
      "8                               The Boy  2015   \n",
      "9                                 SiREN  2016   \n",
      "10                       Camera Obscura  2017   \n",
      "11                          Dementia 13  2017   \n",
      "\n",
      "                                                   Production Co  \n",
      "0                                 Chiller Films Brainstorm Media  \n",
      "1                            Chiller Films Synthetic Productions  \n",
      "2                                       Chiller Films Modernciné  \n",
      "3                                                  Glass Eye Pix  \n",
      "4                   Chiller Films Synthetic Cinema International  \n",
      "5                                                      TMP Films  \n",
      "6                    Flower Films Synthetic Cinema International  \n",
      "7                   Chiller Films Synthetic Cinema International  \n",
      "8                                                  SpectreVision  \n",
      "9                                                       Studio71  \n",
      "10  Chiller Films Hood River Entertainment Paper Street Pictures  \n",
      "11                            Pipeline Entertainment Haloran LLC  },\n",
      "    {   'answer': '2010',\n",
      "        'context':                   Title  Year Other artist ( s )   \n",
      "0          Count on You  2010      Big Time Rush  \\\n",
      "1    You Got ta Want It  2011                nan   \n",
      "2  Chocolate Brown Eyes  2013        Salaam Remi   \n",
      "3               Vertigo  2013       Jason Derulo   \n",
      "4               Vertigo  2014       Jason Derulo   \n",
      "5     Playing With Fire  2015       Thomas Rhett   \n",
      "6     Too Late for Love  2016         DJ Antoine   \n",
      "7            Water Guns  2016       Todrick Hall   \n",
      "8               Chasing  2017        Danny Gokey   \n",
      "\n",
      "                               Album  \n",
      "0                                BTR  \n",
      "1  Official Gameday Music of the NFL  \n",
      "2                 One in the Chamber  \n",
      "3                            Tattoos  \n",
      "4                         Talk Dirty  \n",
      "5                         Tangled Up  \n",
      "6                        Provocateur  \n",
      "7                  Straight Outta Oz  \n",
      "8                               Rise  },\n",
      "    {   'answer': 'May\\xa029,\\xa02018',\n",
      "        'context':   No.overall No. inseason                     Title  Directed by   \n",
      "0     Part 1       Part 1                    Part 1       Part 1  \\\n",
      "1         69            1            Family Leave\"\"  Troy Miller   \n",
      "2         70            2        Self-Deportation\"\"  Troy Miller   \n",
      "3         71            3   Everyone Gets Atrophy\"\"  Troy Miller   \n",
      "4         72            4            An Old Start\"\"  Troy Miller   \n",
      "5         73            5        Sinking Feelings\"\"  Troy Miller   \n",
      "6         74            6       Emotional Baggage\"\"  Troy Miller   \n",
      "7         75            7               Rom-Traum\"\"  Troy Miller   \n",
      "8         76            8  Premature Independence\"\"  Troy Miller   \n",
      "\n",
      "                       Written by Original release date Prod.code           \n",
      "0                          Part 1                Part 1    Part 1  Part 1  \\\n",
      "1  Mitchell Hurwitz & Jim Vallely          May 29, 2018    5AJD01     nan   \n",
      "2                     Richard Day          May 29, 2018    5AJD02     nan   \n",
      "3                Mitchell Hurwitz          May 29, 2018    5AJD03     nan   \n",
      "4                     Jim Vallely          May 29, 2018    5AJD04     nan   \n",
      "5  Jim Vallely & Mitchell Hurwitz          May 29, 2018    5AJD05     nan   \n",
      "6     Evan Mann & Gareth Reynolds          May 29, 2018    5AJD06     nan   \n",
      "7                     Maggie Rowe          May 29, 2018    5ADJ07     nan   \n",
      "8  Mitchell Hurwitz & Jim Vallely          May 29, 2018    5ADJ08     nan   \n",
      "\n",
      "                                           \n",
      "0  Part 1  Part 1  Part 1  Part 1  Part 1  \n",
      "1     nan     nan     nan     nan     nan  \n",
      "2     nan     nan     nan     nan     nan  \n",
      "3     nan     nan     nan     nan     nan  \n",
      "4     nan     nan     nan     nan     nan  \n",
      "5     nan     nan     nan     nan     nan  \n",
      "6     nan     nan     nan     nan     nan  \n",
      "7     nan     nan     nan     nan     nan  \n",
      "8     nan     nan     nan     nan     nan  },\n",
      "    {   'answer': '2009',\n",
      "        'context':                                                  Title       Year   \n",
      "0                                           Bomber Boy  1990 1991  \\\n",
      "1   Bomberman GB / Wario Blast : Featuring Bomberman !  1994 1995   \n",
      "2                                       Bomberman GB 2  1995 1998   \n",
      "3                                       Bomberman GB 3       1996   \n",
      "4                                     Pocket Bomberman  1997 1998   \n",
      "5                                      Bomberman Quest  1998 1999   \n",
      "6                                        Bomberman Max  1999 2000   \n",
      "7               Bomberman Story / Bomberman Tournament       2001   \n",
      "8                                      Bomberman Max 2       2002   \n",
      "9                                            Bomberman       2004   \n",
      "10                           Bomberman ( Nintendo DS )       2005   \n",
      "11                                           Bomberman  2006 2007   \n",
      "12                                  Bomberman Story DS       2007   \n",
      "13                                         Bomberman 2  2008 2009   \n",
      "14                                     Bomberman Blitz       2009   \n",
      "\n",
      "                    Platforms   \n",
      "0                    Game Boy  \\\n",
      "1                    Game Boy   \n",
      "2                    Game Boy   \n",
      "3                    Game Boy   \n",
      "4   Game Boy , Game Boy Color   \n",
      "5              Game Boy Color   \n",
      "6              Game Boy Color   \n",
      "7            Game Boy Advance   \n",
      "8            Game Boy Advance   \n",
      "9                      N-Gage   \n",
      "10                Nintendo DS   \n",
      "11       PlayStation Portable   \n",
      "12                Nintendo DS   \n",
      "13                Nintendo DS   \n",
      "14                    DSiWare   \n",
      "\n",
      "                                                                              Notes  \n",
      "0                   Known as Atomic Punk in North America and Dynablaster in Europe  \n",
      "1   Named Wario Blast : Featuring Bomberman ! outside of Japan ; also Nintendo '...  \n",
      "2                                    Named Bomberman GB in North America and Europe  \n",
      "3                        Japan-only release ; released in Japan for Virtual Console  \n",
      "4                                          GBC release only in the US and in Europe  \n",
      "5                                                       Action-adventure video game  \n",
      "6              Released in two variants , Red Challenger and Blue Champion editions  \n",
      "7                                                                  4-player support  \n",
      "8                           Released in two variants , Blue Advance and Red Advance  \n",
      "9   2-player support over wireless play via Bluetooth . First title in the serie...  \n",
      "10              8-player support over wireless play , but no internet Wi-Fi support  \n",
      "11                              4-player support over wireless play ; North America  \n",
      "12                                           4-player support over Wi-Fi connection  \n",
      "13                                          Named Custom Battler Bomberman in Japan  \n",
      "14   8-player support over wireless play and 4-player support over Wi-Fi connection  },\n",
      "    {   'answer': '2009',\n",
      "        'context':                                                  Title       Year   \n",
      "0                                           Bomber Boy  1990 1991  \\\n",
      "1   Bomberman GB / Wario Blast : Featuring Bomberman !  1994 1995   \n",
      "2                                       Bomberman GB 2  1995 1998   \n",
      "3                                       Bomberman GB 3       1996   \n",
      "4                                     Pocket Bomberman  1997 1998   \n",
      "5                                      Bomberman Quest  1998 1999   \n",
      "6                                        Bomberman Max  1999 2000   \n",
      "7               Bomberman Story / Bomberman Tournament       2001   \n",
      "8                                      Bomberman Max 2       2002   \n",
      "9                                            Bomberman       2004   \n",
      "10                           Bomberman ( Nintendo DS )       2005   \n",
      "11                                           Bomberman  2006 2007   \n",
      "12                                  Bomberman Story DS       2007   \n",
      "13                                         Bomberman 2  2008 2009   \n",
      "14                                     Bomberman Blitz       2009   \n",
      "\n",
      "                    Platforms   \n",
      "0                    Game Boy  \\\n",
      "1                    Game Boy   \n",
      "2                    Game Boy   \n",
      "3                    Game Boy   \n",
      "4   Game Boy , Game Boy Color   \n",
      "5              Game Boy Color   \n",
      "6              Game Boy Color   \n",
      "7            Game Boy Advance   \n",
      "8            Game Boy Advance   \n",
      "9                      N-Gage   \n",
      "10                Nintendo DS   \n",
      "11       PlayStation Portable   \n",
      "12                Nintendo DS   \n",
      "13                Nintendo DS   \n",
      "14                    DSiWare   \n",
      "\n",
      "                                                                              Notes  \n",
      "0                   Known as Atomic Punk in North America and Dynablaster in Europe  \n",
      "1   Named Wario Blast : Featuring Bomberman ! outside of Japan ; also Nintendo '...  \n",
      "2                                    Named Bomberman GB in North America and Europe  \n",
      "3                        Japan-only release ; released in Japan for Virtual Console  \n",
      "4                                          GBC release only in the US and in Europe  \n",
      "5                                                       Action-adventure video game  \n",
      "6              Released in two variants , Red Challenger and Blue Champion editions  \n",
      "7                                                                  4-player support  \n",
      "8                           Released in two variants , Blue Advance and Red Advance  \n",
      "9   2-player support over wireless play via Bluetooth . First title in the serie...  \n",
      "10              8-player support over wireless play , but no internet Wi-Fi support  \n",
      "11                              4-player support over wireless play ; North America  \n",
      "12                                           4-player support over Wi-Fi connection  \n",
      "13                                          Named Custom Battler Bomberman in Japan  \n",
      "14   8-player support over wireless play and 4-player support over Wi-Fi connection  },\n",
      "    {   'answer': '15 April 2005',\n",
      "        'context':       Release date                  Release title    Country      Publisher   \n",
      "0   1 January 2000  Martial Law: Shanghai Express  Hong Kong  Deltamac (HK)  \\\n",
      "1    15 April 2005     Martial Law: Diamond Fever  Hong Kong  Deltamac (HK)   \n",
      "2    15 April 2005      Martial Law: Dead Ringers  Hong Kong  Deltamac (HK)   \n",
      "3    15 April 2005       Martial Law: Funny Money  Hong Kong  Deltamac (HK)   \n",
      "4    15 April 2005   Martial Law: Extreme Mesures  Hong Kong  Deltamac (HK)   \n",
      "5    15 April 2005         Martial Law: Trackdown  Hong Kong  Deltamac (HK)   \n",
      "6    15 April 2005          Martial Law: Take Out  Hong Kong  Deltamac (HK)   \n",
      "7    15 April 2005           Martial Law: Lock-Up  Hong Kong  Deltamac (HK)   \n",
      "8    15 April 2005       Martial Law: Substitutes  Hong Kong  Deltamac (HK)   \n",
      "9    15 April 2005          Martial Law: Trifecta  Hong Kong  Deltamac (HK)   \n",
      "10   15 April 2005         Martial Law Collection  Hong Kong  Deltamac (HK)   \n",
      "\n",
      "   Format Language            Subtitles     Notes  \n",
      "0    NTSC  English  Traditional Chinese     1 VCD  \n",
      "1    NTSC  English  Traditional Chinese     1 VCD  \n",
      "2    NTSC  English  Traditional Chinese     1 VCD  \n",
      "3    NTSC  English  Traditional Chinese     1 VCD  \n",
      "4    NTSC  English  Traditional Chinese     1 VCD  \n",
      "5    NTSC  English  Traditional Chinese     1 VCD  \n",
      "6    NTSC  English  Traditional Chinese     1 VCD  \n",
      "7    NTSC  English  Traditional Chinese     1 VCD  \n",
      "8    NTSC  English  Traditional Chinese     1 VCD  \n",
      "9    NTSC  English  Traditional Chinese     1 VCD  \n",
      "10   NTSC  English  Traditional Chinese  10 VCD's  },\n",
      "    {   'answer': '15 April 2005',\n",
      "        'context':       Release date                  Release title    Country      Publisher   \n",
      "0   1 January 2000  Martial Law: Shanghai Express  Hong Kong  Deltamac (HK)  \\\n",
      "1    15 April 2005     Martial Law: Diamond Fever  Hong Kong  Deltamac (HK)   \n",
      "2    15 April 2005      Martial Law: Dead Ringers  Hong Kong  Deltamac (HK)   \n",
      "3    15 April 2005       Martial Law: Funny Money  Hong Kong  Deltamac (HK)   \n",
      "4    15 April 2005   Martial Law: Extreme Mesures  Hong Kong  Deltamac (HK)   \n",
      "5    15 April 2005         Martial Law: Trackdown  Hong Kong  Deltamac (HK)   \n",
      "6    15 April 2005          Martial Law: Take Out  Hong Kong  Deltamac (HK)   \n",
      "7    15 April 2005           Martial Law: Lock-Up  Hong Kong  Deltamac (HK)   \n",
      "8    15 April 2005       Martial Law: Substitutes  Hong Kong  Deltamac (HK)   \n",
      "9    15 April 2005          Martial Law: Trifecta  Hong Kong  Deltamac (HK)   \n",
      "10   15 April 2005         Martial Law Collection  Hong Kong  Deltamac (HK)   \n",
      "\n",
      "   Format Language            Subtitles     Notes  \n",
      "0    NTSC  English  Traditional Chinese     1 VCD  \n",
      "1    NTSC  English  Traditional Chinese     1 VCD  \n",
      "2    NTSC  English  Traditional Chinese     1 VCD  \n",
      "3    NTSC  English  Traditional Chinese     1 VCD  \n",
      "4    NTSC  English  Traditional Chinese     1 VCD  \n",
      "5    NTSC  English  Traditional Chinese     1 VCD  \n",
      "6    NTSC  English  Traditional Chinese     1 VCD  \n",
      "7    NTSC  English  Traditional Chinese     1 VCD  \n",
      "8    NTSC  English  Traditional Chinese     1 VCD  \n",
      "9    NTSC  English  Traditional Chinese     1 VCD  \n",
      "10   NTSC  English  Traditional Chinese  10 VCD's  },\n",
      "    {   'answer': '1985',\n",
      "        'context':     Year                                                      Film   \n",
      "0   1985                                              Krush Groove  \\\n",
      "1   1987                                              Disorderlies   \n",
      "2   1987                                                   Dragnet   \n",
      "3   1987                                         The Monster Squad   \n",
      "4   1987                     Police Academy 4 : Citizens on Patrol   \n",
      "5   1988                                                    Colors   \n",
      "6   1988            A Nightmare on Elm Street 4 : The Dream Master   \n",
      "7   1988            A Nightmare on Elm Street 4 : The Dream Master   \n",
      "8   1989                                           Ghostbusters II   \n",
      "9   1989                                           Ghostbusters II   \n",
      "10  1990                              Teenage Mutant Ninja Turtles   \n",
      "11  1991                                         The Addams Family   \n",
      "12  1991                                               Cool as Ice   \n",
      "13  1991                                                   Popcorn   \n",
      "14  1991  Teenage Mutant Ninja Turtles II : The Secret of the Ooze   \n",
      "15  1992                                                Deep Cover   \n",
      "16  1992                                                 Gladiator   \n",
      "17  1992                                                     Juice   \n",
      "18  1992                                                Mo ' Money   \n",
      "19  1992                                                  Trespass   \n",
      "\n",
      "                                   Song   \n",
      "0                         Krush Groovin  \\\n",
      "1             Baby , You 're a Rich Man   \n",
      "2                         City of Crime   \n",
      "3                     The Monster Squad   \n",
      "4                    Citizens on Patrol   \n",
      "5                                Colors   \n",
      "6              A Nightmare on My Street   \n",
      "7              Are You Ready for Freddy   \n",
      "8                            On Our Own   \n",
      "9                          Ghostbusters   \n",
      "10                         Turtle Power   \n",
      "11                        Addams Groove   \n",
      "12  Cool as Ice ( Everybody Get Loose )   \n",
      "13                   Scary Scary Movies   \n",
      "14                            Ninja Rap   \n",
      "15                           Deep Cover   \n",
      "16                            Gladiator   \n",
      "17             Juice ( Know the Ledge )   \n",
      "18                    Mo ' Money Groove   \n",
      "19                             Trespass   \n",
      "\n",
      "                                              Artist   \n",
      "0   Run DMC , Sheila E. , Kurtis Blow , The Fat Boys  \\\n",
      "1                                           Fat Boys   \n",
      "2                            Dan Aykroyd & Tom Hanks   \n",
      "3                                  The Monster Squad   \n",
      "4                                    Michael Winslow   \n",
      "5                                              Ice-T   \n",
      "6                   DJ Jazzy Jeff & The Fresh Prince   \n",
      "7                                       The Fat Boys   \n",
      "8                                        Bobby Brown   \n",
      "9                                            Run DMC   \n",
      "10                                 Partners in Kryme   \n",
      "11                                         MC Hammer   \n",
      "12                    Vanilla Ice ft. Naomi Campbell   \n",
      "13                              Ossie D and Stevie G   \n",
      "14                                       Vanilla Ice   \n",
      "15                            Dr. Dre ft. Snoop Dogg   \n",
      "16                                          3rd Bass   \n",
      "17                                  Eric B . & Rakim   \n",
      "18                              Mo ' Money All-Stars   \n",
      "19                                  Ice Cube & Ice-T   \n",
      "\n",
      "                                                                              Notes  \n",
      "0                        Potentially the first film with an associated hip hop song  \n",
      "1                                 Cover of Baby , You 're a Rich Man by The Beatles  \n",
      "2   Performed with Glenn Hughes of Deep Purple and Pat Thrall of the Pat Travers...  \n",
      "3                         Written and Produced by Dick Rudolph and Michael Sembello  \n",
      "4                                                  Performed with the LA Dream Team  \n",
      "5                                                      # 70 on US Billboard Hot 100  \n",
      "6                                                                Unofficial tribute  \n",
      "7                            Features singing from Robert Englund as Freddy Krueger  \n",
      "8                                                         # 1 on US Billboard R & B  \n",
      "9                                                        Written by Ray Parker , Jr  \n",
      "10                                                     # 13 on US Billboard Hot 100  \n",
      "11                                                      # 7 on US Billboard Hot 100  \n",
      "12                                                     # 81 on US Billboard Hot 100  \n",
      "13  Lyrics by Alan Ormsby ( as Tod Hackett ) , Paul Zaza ( as Paul J. Zaza ) and...  \n",
      "14                         Also performed live in-film in Vanilla Ice 's film debut  \n",
      "15                                         Snoop Dogg 's first appearance on record  \n",
      "16                                      The final appearance of 3rd Bass as a group  \n",
      "17                                                                              nan  \n",
      "18                                                                              nan  \n",
      "19                                                                              nan  },\n",
      "    {   'answer': '1991',\n",
      "        'context':     Year                 Film                       Song   \n",
      "0   1991        House Party 2  Ai n't Gon na Hurt Nobody  \\\n",
      "1   1991  Nothing But Trouble                  Same Song   \n",
      "2   1994        Above the Rim                   Regulate   \n",
      "3   1994       Street Fighter      Something Kinda Funky   \n",
      "4   1995               Friday    Keep Their Heads Ringin   \n",
      "5   1999         Office Space      Shove This Jay-Oh-Bee   \n",
      "6   2001             The Wash             Bad Intentions   \n",
      "7   2002               8 Mile              Lose Yourself   \n",
      "8   2002            Like Mike                 Basketball   \n",
      "9   2002            Like Mike               Take Ya Home   \n",
      "10  2003     2 Fast 2 Furious                 Act a Fool   \n",
      "\n",
      "                                                        Artist  \n",
      "0                                                 Kid ' n Play  \n",
      "1                                 Digital Underground ft. 2Pac  \n",
      "2                                       Warren G ft. Nate Dogg  \n",
      "3                                                    Rally Ral  \n",
      "4                                                      Dr. Dre  \n",
      "5                                       Canibus and Biz Markie  \n",
      "6                                     Dr. Dre ft. Knoc-turn'al  \n",
      "7                                                       Eminem  \n",
      "8   Lil ' Bow Wow ft. Fundisha , Jermaine Dupri , and Fabolous  \n",
      "9                                                Lil ' Bow Wow  \n",
      "10                                                    Ludacris  },\n",
      "    {   'answer': '1987 1988 1989',\n",
      "        'context':                                                  Title            Year   \n",
      "0                            Bomber King / RoboWarrior  1987 1988 1989  \\\n",
      "1     Bomber King : Scenario 2 / Blaster Master Boy/Jr       1991 1992   \n",
      "2                             Bomberman : Panic Bomber       1994 1995   \n",
      "3                                    Bomberman B-Daman            1996   \n",
      "4                                     Atomic Bomberman            1997   \n",
      "5                                       Bomberman Wars            1998   \n",
      "6                               Bomberman Fantasy Race  1998 1999 2000   \n",
      "7   Bomberman B-Daman Bakugaiden : The Road to Victory            1999   \n",
      "8     Bomberman B-Daman Bakugaiden V : Final Mega Tune            2000   \n",
      "9                                       Bomberman Kart       2001 2003   \n",
      "10         Bomberman Jetters : The Legendary Bomberman            2002   \n",
      "11                                   Bomberman Jetters       2002 2004   \n",
      "12                   Bomberman Jetters Game Collection            2003   \n",
      "13                          DreamMix TV World Fighters            2003   \n",
      "14                                         BoBomberman            2004   \n",
      "15              Bomberman Battles / Bomberman Hardball       2004 2005   \n",
      "16                Bomberman : Bakufuu Sentai Bombermen            2006   \n",
      "17                                Bomberman : Act Zero            2006   \n",
      "18                   Bomberman : Disney Stitch Edition            2010   \n",
      "19                                  Bomberman : Chains            2011   \n",
      "\n",
      "                                                                          Platforms   \n",
      "0                                                               Famicom / NES , MSX  \\\n",
      "1                                                                          Game Boy   \n",
      "2   PC Engine CD , Neo Geo , Super Famicom , NEC PC-9821 , FM Towns , Sharp X680...   \n",
      "3                                                                     Super Famicom   \n",
      "4                                                                    PC ( Windows )   \n",
      "5                                                         PlayStation , Sega Saturn   \n",
      "6                                                                       PlayStation   \n",
      "7                                                                    Game Boy Color   \n",
      "8                                                                    Game Boy Color   \n",
      "9                                                                     PlayStation 2   \n",
      "10                                                                 Game Boy Advance   \n",
      "11                                                         GameCube , PlayStation 2   \n",
      "12                                                                 Game Boy Advance   \n",
      "13                                                         GameCube , PlayStation 2   \n",
      "14                                                                 Game Boy Advance   \n",
      "15                                                                    PlayStation 2   \n",
      "16                                                             PlayStation Portable   \n",
      "17                                                                         Xbox 360   \n",
      "18                                                                     Mobile Phone   \n",
      "19                                                                              iOS   \n",
      "\n",
      "                                                                              Notes  \n",
      "0   Released outside Japan under the name RoboWarrior ; Bomberman-like progressi...  \n",
      "1   Sequel to Bomber King ; slightly altered and released by Sunsoft in America ...  \n",
      "2   Puzzle game , similar to Puyo Puyo and Tetris ; all versions except for Neo ...  \n",
      "3                                           Japan-only , part of the B-Daman series  \n",
      "4   10-player support through IPX networking ; first Bomberman title for Windows...  \n",
      "5                          Japan-only release ; tactical role-playing game ( TRPG )  \n",
      "6                                                                       Racing game  \n",
      "7   Japan-only release ; based on the anime series , Bomberman B-Daman Bakugaide...  \n",
      "8   Japan-only release ; based on the anime series , Bomberman B-Daman Bakugaide...  \n",
      "9                         Released in Japan and PAL regions only ; kart racing game  \n",
      "10               Japan-only release ; based on the anime series , Bomberman Jetters  \n",
      "11         PS2 release was Japan-only ; based on the Bomberman Jetters anime series  \n",
      "12               Japan-only release ; based on the anime series , Bomberman Jetters  \n",
      "13  Released in Japan only ; crossover fighting game featuring Bomberman as a pl...  \n",
      "14  Minigame based on the NES version of Bomberman , but using characters from t...  \n",
      "15                   Released in Japan and PAL regions only ; sports and party game  \n",
      "16                                                               Japan-only release  \n",
      "17                                        Realistic re-envisioning of the character  \n",
      "18                                     A Bomberman Game based on the anime Stitch !  \n",
      "19                                               Puzzle game , similar to Bejeweled  },\n",
      "    {   'answer': '18 October 1999',\n",
      "        'context':                     Region             Date                 Label    Format   \n",
      "0           United Kingdom  18 October 1999  Chemikal Underground  Promo CD  \\\n",
      "1           United Kingdom  18 October 1999  Chemikal Underground        CD   \n",
      "2           United Kingdom  18 October 1999  Chemikal Underground       12\"   \n",
      "3            United States   18 August 1998               Matador        CD   \n",
      "4  Australia , New Zealand             1999                 Spunk        CD   \n",
      "\n",
      "      Catalog  \n",
      "0  PCHEM036CD  \n",
      "1   CHEM036CD  \n",
      "2     CHEM036  \n",
      "3      OLE412  \n",
      "4      URA012  },\n",
      "    {   'answer': 'January 31',\n",
      "        'context':         Release                               Title           System   \n",
      "0    January 25                     Guardian Heroes              Sat  \\\n",
      "1    January 26       Mystaria : The Realms of Lore              Sat   \n",
      "2    January 29                       Duke Nukem 3D              DOS   \n",
      "3    January 31                         Mega Man X3             SNES   \n",
      "4    February 9                      Bahamut Lagoon             SNES   \n",
      "5   February 23          Front Mission : Gun Hazard             SNES   \n",
      "6   February 27               Pokémon Red and Green               GB   \n",
      "7   February 29                     Civilization II              Win   \n",
      "8   February 29               Ripper ( video game )              DOS   \n",
      "9   February 29               Rise 2 : Resurrection  Win , Sat , PS1   \n",
      "10  February 29  Terra Nova : Strike Force Centauri              DOS   \n",
      "11  February 29                      Zork : Nemesis              Win   \n",
      "12      March 9                     Super Mario RPG             SNES   \n",
      "13     March 21                    Kirby Super Star             SNES   \n",
      "14     March 22                       Resident Evil              PS1   \n",
      "15     March 22              Panzer Dragoon II Zwei              Sat   \n",
      "16     March 29     Dragon Ball Z : Hyper Dimension             SNES   \n",
      "17     April 20             Barbie Fashion Designer              Win   \n",
      "18     April 26                   Jumping Flash ! 2              PS1   \n",
      "19     April 26                 The Legend of Oasis              Sat   \n",
      "\n",
      "            Developer / Publisher   \n",
      "0                 Treasure / Sega  \\\n",
      "1              Micro Cabin / Sega   \n",
      "2      3D Realms / GT Interactive   \n",
      "3                          Capcom   \n",
      "4                      SquareSoft   \n",
      "5                      SquareSoft   \n",
      "6                        Nintendo   \n",
      "7                      MicroProse   \n",
      "8            Take Two Interactive   \n",
      "9                Mirage / Acclaim   \n",
      "10          Looking Glass Studios   \n",
      "11                     Activision   \n",
      "12            SquareSoft/Nintendo   \n",
      "13            HAL Labs / Nintendo   \n",
      "14                         Capcom   \n",
      "15          Team Andromeda / Sega   \n",
      "16                  TOSE / Bandai   \n",
      "17  Digital Domain / Mattel Media   \n",
      "18                   Exact / SCEA   \n",
      "19                 Sega / Ancient   \n",
      "\n",
      "                                                                              Notes  \n",
      "0                                           a beat-em-up game developed by Treasure  \n",
      "1                                                                    a tactical RPG  \n",
      "2                                                    a popular first person shooter  \n",
      "3                                 third X installment in popular Mega Man franchise  \n",
      "4   Tactical RPG spin-off in the Final Fantasy series , before Final Fantasy Tac...  \n",
      "5                                Sequel to strategy Super Famicom RPG Front Mission  \n",
      "6                                             launched a wildly popular game series  \n",
      "7                           acclaimed sequel to the highly influential 1991 4X game  \n",
      "8                  Interactive movie , Point-and-click adventure Single Player game  \n",
      "9                              the sequel to the fighting game , Rise of the Robots  \n",
      "10                                                         critically acclaimed FPS  \n",
      "11         11th game in the Zork series , employing 360-degree views of environment  \n",
      "12                               beginning of the long-running series of Mario RPGs  \n",
      "13                    considered to be one of the best games in the Kirby franchise  \n",
      "14  one of the foundational games in the survival horror genre , for a time it h...  \n",
      "15                                                        an acclaimed rail shooter  \n",
      "16                       the last Super Famicom game in the Dragon Ball Z franchise  \n",
      "17  The game 's strong sales sparked a renewed interest in developing games targ...  \n",
      "18                                           Sequel to the first true 3D platformer  \n",
      "19                      Prequel to the Genesis Zelda-style action game Beyond Oasis  },\n",
      "    {   'answer': 'Windows:NA: October 17, 2006 EU: October 20, 2006 Mac OS '\n",
      "                  'X:November 6, 2006',\n",
      "        'context':                 Name   \n",
      "0         University  \\\n",
      "1          Nightlife   \n",
      "2  Open for Business   \n",
      "3               Pets   \n",
      "4            Seasons   \n",
      "5         Bon Voyage   \n",
      "6           FreeTime   \n",
      "7     Apartment Life   \n",
      "\n",
      "                                                                     Release date   \n",
      "0          Windows:NA: March 1, 2005 EU: March 2, 2005 Mac OS X:December 12, 2005  \\\n",
      "1   Windows:NA: September 13, 2005 EU: September 13, 2005 Mac OS X:March 27, 2006   \n",
      "2          Windows:NA: March 2, 2006 EU: March 2, 2006 Mac OS X:September 4, 2006   \n",
      "3     Windows:NA: October 17, 2006 EU: October 20, 2006 Mac OS X:November 6, 2006   \n",
      "4              Windows:NA: March 1, 2007 EU: March 2, 2007 Mac OS X:June 11, 2007   \n",
      "5  Windows:NA: September 4, 2007 EU: September 7, 2007 Mac OS X:December 17, 2007   \n",
      "6                             Windows:NA: February 26, 2008 EU: February 22, 2008   \n",
      "7                                  Windows:NA: August 27, 2008EU: August 29, 2008   \n",
      "\n",
      "                                                                   Major Additions   \n",
      "0                            Universities, Young Adult age group, Influence system  \\\n",
      "1  Dates, Groups system, Outings, Pleasure and Grilled Cheese aspiration, New r...   \n",
      "2                                                        Businesses, talent badges   \n",
      "3                                                                     Ownable Pets   \n",
      "4                    Weather system, Seasons, fishing, new talent badges,gardening   \n",
      "5                                            Vacations in different cultural areas   \n",
      "6                     Hobby system, lifetime aspiration system, new talent badges.   \n",
      "7                        Rentable apartments, reputation system, witchcraft system   \n",
      "\n",
      "                                                 Neighborhoods   \n",
      "0  Campus:La Fiesta Tech,Sim State University,Académie Le Tour  \\\n",
      "1                                            Downtown:Downtown   \n",
      "2                          Shopping District:Bluewater Village   \n",
      "3                                                         None   \n",
      "4                                      Main:Riverblossom Hills   \n",
      "5         Vacation:Twikkii Island,Three Lakes,Takemizu Village   \n",
      "6                         Main: Desiderata Valley Secret:Hobby   \n",
      "7             Main:Belladonna Cove[53]Secret:The Magical World   \n",
      "\n",
      "                                                                          New NPCs   \n",
      "0  Barista, Bartender,Cafeteria Worker,Cheerleader,Coach, Evil Mascot, Mascot,P...  \\\n",
      "1  Gypsy Matchmaker,Waiter, Chef,Bartender, DJ,Mrs. Crumplebottom,Vampires (Cou...   \n",
      "2                                                                Reporters,Barbers   \n",
      "3                         Animal Control Officers,Obedience Trainer,Wolves, Skunks   \n",
      "4                                                     Garden Club Members,Penguins   \n",
      "5  Fire Dancers,Hotel Maids,Bellboys, Masseurs,Wise Old Man,Pirate, Tour Guides...   \n",
      "6                          Hobby Members,Rod Humble,Hobby Leaders,Food Judge,Genie   \n",
      "7  Butler, Landlord,Roomies,Breakdancers,Street Performers,Social Group Sims,Hi...   \n",
      "\n",
      "                          New Lifestate/Creature   \n",
      "0  Zombies (Also in FreeTime and Apartment Life)  \\\n",
      "1                                       Vampires   \n",
      "2                                Servos (Robots)   \n",
      "3                                     Werewolves   \n",
      "4                                      PlantSims   \n",
      "5                                        Bigfoot   \n",
      "6                               Genie (Only NPC)   \n",
      "7                              Witches, Warlocks   \n",
      "\n",
      "                                                  New Careers  \n",
      "0         Natural Scientist, Paranormal,Show Business, Artist  \n",
      "1                                                        None  \n",
      "2                                              Shop Employees  \n",
      "3                        Pet careers:Security,Showbiz,Service  \n",
      "4            Adventurer,Education,Gamer,Journalism,Law, Music  \n",
      "5                                                        None  \n",
      "6  Oceanography,Intelligence,Entertainment,Dance,Architecture  \n",
      "7                                                        None  },\n",
      "    {   'answer': '1973',\n",
      "        'context':    Year                        Title   US   CAN                     Notes\n",
      "0  1973     Bachman-Turner Overdrive   70   9.0  CAN : Platinum US : Gold\n",
      "1  1973  Bachman-Turner Overdrive II    4   6.0  CAN : Platinum US : Gold\n",
      "2  1974                  Not Fragile    1   1.0  CAN : Platinum US : Gold\n",
      "3  1975             Four Wheel Drive    5   2.0  CAN : Platinum US : Gold\n",
      "4  1975                      Head On   23   3.0  CAN : Platinum US : Gold\n",
      "5  1977                     Freeways   70  34.0                CAN : Gold\n",
      "6  1978                Street Action  130  62.0                       nan\n",
      "7  1979         Rock n ' Roll Nights  165   nan                       nan\n",
      "8  1984     Bachman-Turner Overdrive  191  87.0                       nan},\n",
      "    {   'answer': '2012',\n",
      "        'context':    Year                                           Title   \n",
      "0  2011                 Skylanders : Spyro 's Adventure  \\\n",
      "1  2012                     The Expendables 2 Videogame   \n",
      "2  2012                             Skylanders : Giants   \n",
      "3  2013                         Skylanders : Swap Force   \n",
      "4  2014  Scooby-Doo and Looney Tunes : Cartoon Universe   \n",
      "5  2014                          Skylanders : Trap Team   \n",
      "6  2015                      Skylanders : SuperChargers   \n",
      "7  2016                        Skylanders : Imaginators   \n",
      "8  2018                            Lego The Incredibles   \n",
      "\n",
      "                                              Role  \n",
      "0                                              Zap  \n",
      "1                                      Barney Ross  \n",
      "2                                              Zap  \n",
      "3                                              Zap  \n",
      "4  Bugs Bunny Daffy Duck Foghorn Leghorn Sylvester  \n",
      "5                                              Zap  \n",
      "6                                              Zap  \n",
      "7                                              Zap  \n",
      "8                         Bob Parr/Mr . Incredible  },\n",
      "    {   'answer': 'JP : 1998',\n",
      "        'context':                                                                               Title   \n",
      "0                                     Itadaki Street : Watashi no Omise ni Yottette  \\\n",
      "1                                       Itadaki Street 2 : Neon Sign wa Bara Iro ni   \n",
      "2                                                    Itadaki Street : Gorgeous King   \n",
      "3                 Itadaki Street 3 Okumanchouja ni Shite Ageru : Kateikyoushi Tsuki   \n",
      "4                            Dragon Quest & Final Fantasy in Itadaki Street Special   \n",
      "5                           Dragon Quest & Final Fantasy in Itadaki Street Portable   \n",
      "6                                                                 Itadaki Street DS   \n",
      "7                                                             Itadaki Street Mobile   \n",
      "8                             Dragon Quest & Final Fantasy in Itadaki Street Mobile   \n",
      "9   Fortune Street Released in Japan as Itadaki Street Wii ( いただきストリートWii ) and ...   \n",
      "10  Fortune Street Smart Released in Japan as Itadaki Street for Smartphone ( いた...   \n",
      "11                 Itadaki Street : Dragon Quest and Final Fantasy 30th Anniversary   \n",
      "\n",
      "                                                                            Year   \n",
      "0                                                                      JP : 1991  \\\n",
      "1                                                                      JP : 1994   \n",
      "2                                                                      JP : 1998   \n",
      "3                                                                      JP : 2002   \n",
      "4                                                                      JP : 2004   \n",
      "5                                                                      JP : 2006   \n",
      "6                                                                      JP : 2007   \n",
      "7                                                                      JP : 2007   \n",
      "8                                                                      JP : 2010   \n",
      "9   JP : 2011-12-01 NA : 2011-12-05 EU : 2011-12-23 / 2012-01-06 AU : 2012-01-05   \n",
      "10                                                           JP : 2012 WW : 2012   \n",
      "11                                                                     JP : 2017   \n",
      "\n",
      "                            Platform   \n",
      "0                            Famicom  \\\n",
      "1                      Super Famicom   \n",
      "2                        PlayStation   \n",
      "3                      PlayStation 2   \n",
      "4                      PlayStation 2   \n",
      "5               PlayStation Portable   \n",
      "6                        Nintendo DS   \n",
      "7                      Mobile phones   \n",
      "8                      Mobile phones   \n",
      "9                                Wii   \n",
      "10                     Android , iOS   \n",
      "11  PlayStation 4 , PlayStation Vita   \n",
      "\n",
      "                                                                              Notes  \n",
      "0   Itadaki Street : Watashi no Omise ni Yottette was developed by Loginsoft and...  \n",
      "1   Itadaki Street 2 : Neon Sign wa Bara Iro ni operates like a junior version o...  \n",
      "2   Itadaki Street : Gorgeous King was released on the PlayStation in 1998 . It ...  \n",
      "3   Itadaki Street 3 Okumanchouja ni Shite Ageru : Kateikyoushi Tsuki was develo...  \n",
      "4   Dragon Quest & Final Fantasy in Itadaki Street Special was released on Decem...  \n",
      "5   Dragon Quest & Final Fantasy in Itadaki Street Portable includes characters ...  \n",
      "6   Itadaki Street DS includes characters from Square Enix 's Dragon Quest serie...  \n",
      "7   Itadaki Street Mobile included no branded characters from any video game fra...  \n",
      "8   Dragon Quest & Final Fantasy in Itadaki Street Mobile features Final Fantasy...  \n",
      "9   Fortune Street was revealed by Nintendo at E3 2011 for the Wii , released on...  \n",
      "10  Fortune Street Smart is an entry in the series developed for smartphones . I...  \n",
      "11                     Developed by Tose and released in Japan on October 19 , 2017  },\n",
      "    {   'answer': 'JP : 1998',\n",
      "        'context':                                                                               Title   \n",
      "0                                     Itadaki Street : Watashi no Omise ni Yottette  \\\n",
      "1                                       Itadaki Street 2 : Neon Sign wa Bara Iro ni   \n",
      "2                                                    Itadaki Street : Gorgeous King   \n",
      "3                 Itadaki Street 3 Okumanchouja ni Shite Ageru : Kateikyoushi Tsuki   \n",
      "4                            Dragon Quest & Final Fantasy in Itadaki Street Special   \n",
      "5                           Dragon Quest & Final Fantasy in Itadaki Street Portable   \n",
      "6                                                                 Itadaki Street DS   \n",
      "7                                                             Itadaki Street Mobile   \n",
      "8                             Dragon Quest & Final Fantasy in Itadaki Street Mobile   \n",
      "9   Fortune Street Released in Japan as Itadaki Street Wii ( いただきストリートWii ) and ...   \n",
      "10  Fortune Street Smart Released in Japan as Itadaki Street for Smartphone ( いた...   \n",
      "11                 Itadaki Street : Dragon Quest and Final Fantasy 30th Anniversary   \n",
      "\n",
      "                                                                            Year   \n",
      "0                                                                      JP : 1991  \\\n",
      "1                                                                      JP : 1994   \n",
      "2                                                                      JP : 1998   \n",
      "3                                                                      JP : 2002   \n",
      "4                                                                      JP : 2004   \n",
      "5                                                                      JP : 2006   \n",
      "6                                                                      JP : 2007   \n",
      "7                                                                      JP : 2007   \n",
      "8                                                                      JP : 2010   \n",
      "9   JP : 2011-12-01 NA : 2011-12-05 EU : 2011-12-23 / 2012-01-06 AU : 2012-01-05   \n",
      "10                                                           JP : 2012 WW : 2012   \n",
      "11                                                                     JP : 2017   \n",
      "\n",
      "                            Platform   \n",
      "0                            Famicom  \\\n",
      "1                      Super Famicom   \n",
      "2                        PlayStation   \n",
      "3                      PlayStation 2   \n",
      "4                      PlayStation 2   \n",
      "5               PlayStation Portable   \n",
      "6                        Nintendo DS   \n",
      "7                      Mobile phones   \n",
      "8                      Mobile phones   \n",
      "9                                Wii   \n",
      "10                     Android , iOS   \n",
      "11  PlayStation 4 , PlayStation Vita   \n",
      "\n",
      "                                                                              Notes  \n",
      "0   Itadaki Street : Watashi no Omise ni Yottette was developed by Loginsoft and...  \n",
      "1   Itadaki Street 2 : Neon Sign wa Bara Iro ni operates like a junior version o...  \n",
      "2   Itadaki Street : Gorgeous King was released on the PlayStation in 1998 . It ...  \n",
      "3   Itadaki Street 3 Okumanchouja ni Shite Ageru : Kateikyoushi Tsuki was develo...  \n",
      "4   Dragon Quest & Final Fantasy in Itadaki Street Special was released on Decem...  \n",
      "5   Dragon Quest & Final Fantasy in Itadaki Street Portable includes characters ...  \n",
      "6   Itadaki Street DS includes characters from Square Enix 's Dragon Quest serie...  \n",
      "7   Itadaki Street Mobile included no branded characters from any video game fra...  \n",
      "8   Dragon Quest & Final Fantasy in Itadaki Street Mobile features Final Fantasy...  \n",
      "9   Fortune Street was revealed by Nintendo at E3 2011 for the Wii , released on...  \n",
      "10  Fortune Street Smart is an entry in the series developed for smartphones . I...  \n",
      "11                     Developed by Tose and released in Japan on October 19 , 2017  }]\n"
     ]
    }
   ],
   "source": [
    "prediction = table_qa_pipeline.run(\n",
    "    \"When was Guilty Gear Xrd : Sign released?\", params={\"top_k\": 30}\n",
    ")\n",
    "print_answers(prediction, details=\"minimum\")"
   ]
  },
  {
   "cell_type": "code",
   "execution_count": 17,
   "metadata": {},
   "outputs": [
    {
     "name": "stderr",
     "output_type": "stream",
     "text": [
      "/home/khoa/anaconda3/envs/haystack/lib/python3.10/site-packages/elasticsearch/connection/base.py:200: ElasticsearchWarning: Elasticsearch built-in security features are not enabled. Without authentication, your cluster could be accessible to anyone. See https://www.elastic.co/guide/en/elasticsearch/reference/7.17/security-minimal-setup.html to enable security.\n",
      "  warnings.warn(message, category=ElasticsearchWarning)\n"
     ]
    }
   ],
   "source": [
    "def read_texts(filename):\n",
    "    processed_passages = []\n",
    "    with open(filename) as passages:\n",
    "        passages = json.load(passages)\n",
    "        for key, content in passages.items():\n",
    "            document = Document(content=content, content_type=\"text\", id=key)\n",
    "            processed_passages.append(document)\n",
    "\n",
    "    return processed_passages\n",
    "\n",
    "\n",
    "passages = read_texts(f\"{doc_dir}/texts.json\")\n",
    "document_store.write_documents(passages, index=document_index)"
   ]
  },
  {
   "cell_type": "code",
   "execution_count": 18,
   "metadata": {},
   "outputs": [
    {
     "name": "stderr",
     "output_type": "stream",
     "text": [
      "INFO - haystack.modeling.utils -  Using devices: CUDA:0 - Number of GPUs: 1\n",
      "INFO - haystack.modeling.utils -  Using devices: CUDA:0 - Number of GPUs: 1\n",
      "INFO - haystack.modeling.model.language_model -   * LOADING MODEL: 'deepset/roberta-base-squad2' (Roberta)\n",
      "INFO - haystack.modeling.model.language_model -  Auto-detected model language: english\n",
      "INFO - haystack.modeling.model.language_model -  Loaded 'deepset/roberta-base-squad2' (Roberta model) from model hub.\n",
      "INFO - haystack.modeling.utils -  Using devices: CUDA:0 - Number of GPUs: 1\n",
      "WARNING - haystack.nodes.reader.table -  The support for returning offsets in answer predictions in a linear fashion is being deprecated. Set return_table_cell=True to use the new offsets format which returns the row and column indices of the table cells selected in the answer. In the future, return_table_cell=True will become default and return_table_cell=False will no  longer be supported.\n",
      "INFO - haystack.modeling.utils -  Using devices: CUDA:0 - Number of GPUs: 1\n"
     ]
    },
    {
     "data": {
      "application/vnd.jupyter.widget-view+json": {
       "model_id": "4d6a681be91c46798b308432468a8f8a",
       "version_major": 2,
       "version_minor": 0
      },
      "text/plain": [
       "Downloading (…)lve/main/config.json:   0%|          | 0.00/1.48k [00:00<?, ?B/s]"
      ]
     },
     "metadata": {},
     "output_type": "display_data"
    },
    {
     "data": {
      "application/vnd.jupyter.widget-view+json": {
       "model_id": "d873d6d714b24150988bc8bb5d9075d7",
       "version_major": 2,
       "version_minor": 0
      },
      "text/plain": [
       "Downloading pytorch_model.bin:   0%|          | 0.00/1.35G [00:00<?, ?B/s]"
      ]
     },
     "metadata": {},
     "output_type": "display_data"
    },
    {
     "data": {
      "application/vnd.jupyter.widget-view+json": {
       "model_id": "850ee0d93a5a42898950896af8c09204",
       "version_major": 2,
       "version_minor": 0
      },
      "text/plain": [
       "Downloading (…)solve/main/vocab.txt:   0%|          | 0.00/232k [00:00<?, ?B/s]"
      ]
     },
     "metadata": {},
     "output_type": "display_data"
    },
    {
     "data": {
      "application/vnd.jupyter.widget-view+json": {
       "model_id": "c42167cb29b44dc2881a360dcf437264",
       "version_major": 2,
       "version_minor": 0
      },
      "text/plain": [
       "Downloading (…)cial_tokens_map.json:   0%|          | 0.00/154 [00:00<?, ?B/s]"
      ]
     },
     "metadata": {},
     "output_type": "display_data"
    },
    {
     "data": {
      "application/vnd.jupyter.widget-view+json": {
       "model_id": "932429698ab747a09cc6c9c5de2fda73",
       "version_major": 2,
       "version_minor": 0
      },
      "text/plain": [
       "Downloading (…)okenizer_config.json:   0%|          | 0.00/558 [00:00<?, ?B/s]"
      ]
     },
     "metadata": {},
     "output_type": "display_data"
    }
   ],
   "source": [
    "from haystack.nodes import FARMReader, RouteDocuments, JoinAnswers\n",
    "\n",
    "text_reader = FARMReader(\"deepset/roberta-base-squad2\")\n",
    "table_reader = TableReader(\"deepset/tapas-large-nq-hn-reader\")\n",
    "route_documents = RouteDocuments()\n",
    "join_answers = JoinAnswers()"
   ]
  },
  {
   "cell_type": "code",
   "execution_count": 19,
   "metadata": {},
   "outputs": [],
   "source": [
    "text_table_qa_pipeline = Pipeline()\n",
    "text_table_qa_pipeline.add_node(\n",
    "    component=retriever, name=\"EmbeddingRetriever\", inputs=[\"Query\"]\n",
    ")\n",
    "text_table_qa_pipeline.add_node(\n",
    "    component=route_documents, name=\"RouteDocuments\", inputs=[\"EmbeddingRetriever\"]\n",
    ")\n",
    "text_table_qa_pipeline.add_node(\n",
    "    component=text_reader, name=\"TextReader\", inputs=[\"RouteDocuments.output_1\"]\n",
    ")\n",
    "text_table_qa_pipeline.add_node(\n",
    "    component=table_reader, name=\"TableReader\", inputs=[\"RouteDocuments.output_2\"]\n",
    ")\n",
    "text_table_qa_pipeline.add_node(\n",
    "    component=join_answers, name=\"JoinAnswers\", inputs=[\"TextReader\", \"TableReader\"]\n",
    ")"
   ]
  },
  {
   "cell_type": "code",
   "execution_count": 20,
   "metadata": {},
   "outputs": [
    {
     "data": {
      "application/vnd.jupyter.widget-view+json": {
       "model_id": "249eeb1bf9164bd88a9164944adb2ea4",
       "version_major": 2,
       "version_minor": 0
      },
      "text/plain": [
       "Batches:   0%|          | 0/1 [00:00<?, ?it/s]"
      ]
     },
     "metadata": {},
     "output_type": "display_data"
    },
    {
     "data": {
      "application/vnd.jupyter.widget-view+json": {
       "model_id": "953aa94695ca463281751ef75ea21ebe",
       "version_major": 2,
       "version_minor": 0
      },
      "text/plain": [
       "Inferencing Samples:   0%|          | 0/1 [00:00<?, ? Batches/s]"
      ]
     },
     "metadata": {},
     "output_type": "display_data"
    }
   ],
   "source": [
    "predictions = text_table_qa_pipeline.run(query=\"Who was Thomas Alva Edison?\")"
   ]
  },
  {
   "cell_type": "code",
   "execution_count": 21,
   "metadata": {},
   "outputs": [
    {
     "name": "stdout",
     "output_type": "stream",
     "text": [
      "'Query: Who was Thomas Alva Edison?'\n",
      "'Answers:'\n",
      "[   {   'answer': 'John Béchervaise , OAM , MBE',\n",
      "        'context':                             Name   \n",
      "0                 Amanda Barnard  \\\n",
      "1                 Martin G. Bean   \n",
      "2                Gordon S. Brown   \n",
      "3   John Béchervaise , OAM , MBE   \n",
      "4               Megan Clark , AC   \n",
      "5          J. Donald R. de Raadt   \n",
      "6              Graham Dorrington   \n",
      "7             Dennis Gibson , AO   \n",
      "8              Ranulph Glanville   \n",
      "9              Alfred Gottschalk   \n",
      "10         Ann Henderson-Sellers   \n",
      "11                Arthur R. Hogg   \n",
      "12        Kourosh Kalantar-zadeh   \n",
      "13                 Richard Kaner   \n",
      "14                Lakshmi Kantam   \n",
      "15                William Kernot   \n",
      "16             Sir Albert Kitson   \n",
      "17                   David Malin   \n",
      "18           Henry Millicer , AM   \n",
      "19                Luca Marmorini   \n",
      "\n",
      "                           Association with RMIT   \n",
      "0             B Sci ( AppPhysics ) ( Hon ) , PhD  \\\n",
      "1                        current Vice-Chancellor   \n",
      "2    Dip Civil Eng , Elec Eng , Mech Eng [ WMC ]   \n",
      "3                                science classes   \n",
      "4     DAppSci ( honoris causa ) , former faculty   \n",
      "5                                          FRMIT   \n",
      "6                                        faculty   \n",
      "7                              former Chancellor   \n",
      "8                                 former faculty   \n",
      "9                                 former faculty   \n",
      "10                 former Deputy Vice-Chancellor   \n",
      "11                               science classes   \n",
      "12      attended ( PhD ) and also former faculty   \n",
      "13                                       faculty   \n",
      "14                                       faculty   \n",
      "15                      former President [ WMC ]   \n",
      "16  geology , mining , surveying classes [ WMC ]   \n",
      "17                    D AppSci ( honoris causa )   \n",
      "18      D Eng ( honoris causa ) ; former faculty   \n",
      "19                                       faculty   \n",
      "\n",
      "                                                                         Notability  \n",
      "0   nanotechnologist and theoretical physicist ; Head of the CSIRO Nanoscience L...  \n",
      "1   technology executive ; former Global Director of Microsoft and former Vice-C...  \n",
      "2               cyberneticist ; Emeritus Professor of Electrical Engineering at MIT  \n",
      "3                                                     Antarctic explorer and author  \n",
      "4                                              scientist ; current CEO of the CSIRO  \n",
      "5   Emeritus Professor of Informatics and System Science at Luleå University of ...  \n",
      "6   aeronautical engineer ; subject of the 2004 documentary The White Diamond by...  \n",
      "7                                                                     mathematician  \n",
      "8                                                          cybernetics theoretician  \n",
      "9                                            biochemist and glycoprotein researcher  \n",
      "10                                      former Director of the UN Climate Programme  \n",
      "11                                                         astronomer and physicist  \n",
      "12  Materials scientist , electronic engineer and Australian Research Council ( ...  \n",
      "13            chemist and nanotechnologist ; recipient of the Tolman Award ( 2008 )  \n",
      "14       chemist ; Adjunct Professor and Director of the IICT -RMIT Research Centre  \n",
      "15                        Old Kernot Engineering School at RMIT named in his honour  \n",
      "16                                geologist ; recipient of the Lyell Medal ( 1927 )  \n",
      "17                                                                       astronomer  \n",
      "18                                                                aircraft designer  \n",
      "19            head of the engine and electronics department for the Ferrari F1 team  },\n",
      "    {   'answer': 'Ann Henderson-Sellers',\n",
      "        'context':                             Name   \n",
      "0                 Amanda Barnard  \\\n",
      "1                 Martin G. Bean   \n",
      "2                Gordon S. Brown   \n",
      "3   John Béchervaise , OAM , MBE   \n",
      "4               Megan Clark , AC   \n",
      "5          J. Donald R. de Raadt   \n",
      "6              Graham Dorrington   \n",
      "7             Dennis Gibson , AO   \n",
      "8              Ranulph Glanville   \n",
      "9              Alfred Gottschalk   \n",
      "10         Ann Henderson-Sellers   \n",
      "11                Arthur R. Hogg   \n",
      "12        Kourosh Kalantar-zadeh   \n",
      "13                 Richard Kaner   \n",
      "14                Lakshmi Kantam   \n",
      "15                William Kernot   \n",
      "16             Sir Albert Kitson   \n",
      "17                   David Malin   \n",
      "18           Henry Millicer , AM   \n",
      "19                Luca Marmorini   \n",
      "\n",
      "                           Association with RMIT   \n",
      "0             B Sci ( AppPhysics ) ( Hon ) , PhD  \\\n",
      "1                        current Vice-Chancellor   \n",
      "2    Dip Civil Eng , Elec Eng , Mech Eng [ WMC ]   \n",
      "3                                science classes   \n",
      "4     DAppSci ( honoris causa ) , former faculty   \n",
      "5                                          FRMIT   \n",
      "6                                        faculty   \n",
      "7                              former Chancellor   \n",
      "8                                 former faculty   \n",
      "9                                 former faculty   \n",
      "10                 former Deputy Vice-Chancellor   \n",
      "11                               science classes   \n",
      "12      attended ( PhD ) and also former faculty   \n",
      "13                                       faculty   \n",
      "14                                       faculty   \n",
      "15                      former President [ WMC ]   \n",
      "16  geology , mining , surveying classes [ WMC ]   \n",
      "17                    D AppSci ( honoris causa )   \n",
      "18      D Eng ( honoris causa ) ; former faculty   \n",
      "19                                       faculty   \n",
      "\n",
      "                                                                         Notability  \n",
      "0   nanotechnologist and theoretical physicist ; Head of the CSIRO Nanoscience L...  \n",
      "1   technology executive ; former Global Director of Microsoft and former Vice-C...  \n",
      "2               cyberneticist ; Emeritus Professor of Electrical Engineering at MIT  \n",
      "3                                                     Antarctic explorer and author  \n",
      "4                                              scientist ; current CEO of the CSIRO  \n",
      "5   Emeritus Professor of Informatics and System Science at Luleå University of ...  \n",
      "6   aeronautical engineer ; subject of the 2004 documentary The White Diamond by...  \n",
      "7                                                                     mathematician  \n",
      "8                                                          cybernetics theoretician  \n",
      "9                                            biochemist and glycoprotein researcher  \n",
      "10                                      former Director of the UN Climate Programme  \n",
      "11                                                         astronomer and physicist  \n",
      "12  Materials scientist , electronic engineer and Australian Research Council ( ...  \n",
      "13            chemist and nanotechnologist ; recipient of the Tolman Award ( 2008 )  \n",
      "14       chemist ; Adjunct Professor and Director of the IICT -RMIT Research Centre  \n",
      "15                        Old Kernot Engineering School at RMIT named in his honour  \n",
      "16                                geologist ; recipient of the Lyell Medal ( 1927 )  \n",
      "17                                                                       astronomer  \n",
      "18                                                                aircraft designer  \n",
      "19            head of the engine and electronics department for the Ferrari F1 team  },\n",
      "    {   'answer': 'nanotechnologist and theoretical physicist ; Head of the '\n",
      "                  'CSIRO Nanoscience Laboratory',\n",
      "        'context':                             Name   \n",
      "0                 Amanda Barnard  \\\n",
      "1                 Martin G. Bean   \n",
      "2                Gordon S. Brown   \n",
      "3   John Béchervaise , OAM , MBE   \n",
      "4               Megan Clark , AC   \n",
      "5          J. Donald R. de Raadt   \n",
      "6              Graham Dorrington   \n",
      "7             Dennis Gibson , AO   \n",
      "8              Ranulph Glanville   \n",
      "9              Alfred Gottschalk   \n",
      "10         Ann Henderson-Sellers   \n",
      "11                Arthur R. Hogg   \n",
      "12        Kourosh Kalantar-zadeh   \n",
      "13                 Richard Kaner   \n",
      "14                Lakshmi Kantam   \n",
      "15                William Kernot   \n",
      "16             Sir Albert Kitson   \n",
      "17                   David Malin   \n",
      "18           Henry Millicer , AM   \n",
      "19                Luca Marmorini   \n",
      "\n",
      "                           Association with RMIT   \n",
      "0             B Sci ( AppPhysics ) ( Hon ) , PhD  \\\n",
      "1                        current Vice-Chancellor   \n",
      "2    Dip Civil Eng , Elec Eng , Mech Eng [ WMC ]   \n",
      "3                                science classes   \n",
      "4     DAppSci ( honoris causa ) , former faculty   \n",
      "5                                          FRMIT   \n",
      "6                                        faculty   \n",
      "7                              former Chancellor   \n",
      "8                                 former faculty   \n",
      "9                                 former faculty   \n",
      "10                 former Deputy Vice-Chancellor   \n",
      "11                               science classes   \n",
      "12      attended ( PhD ) and also former faculty   \n",
      "13                                       faculty   \n",
      "14                                       faculty   \n",
      "15                      former President [ WMC ]   \n",
      "16  geology , mining , surveying classes [ WMC ]   \n",
      "17                    D AppSci ( honoris causa )   \n",
      "18      D Eng ( honoris causa ) ; former faculty   \n",
      "19                                       faculty   \n",
      "\n",
      "                                                                         Notability  \n",
      "0   nanotechnologist and theoretical physicist ; Head of the CSIRO Nanoscience L...  \n",
      "1   technology executive ; former Global Director of Microsoft and former Vice-C...  \n",
      "2               cyberneticist ; Emeritus Professor of Electrical Engineering at MIT  \n",
      "3                                                     Antarctic explorer and author  \n",
      "4                                              scientist ; current CEO of the CSIRO  \n",
      "5   Emeritus Professor of Informatics and System Science at Luleå University of ...  \n",
      "6   aeronautical engineer ; subject of the 2004 documentary The White Diamond by...  \n",
      "7                                                                     mathematician  \n",
      "8                                                          cybernetics theoretician  \n",
      "9                                            biochemist and glycoprotein researcher  \n",
      "10                                      former Director of the UN Climate Programme  \n",
      "11                                                         astronomer and physicist  \n",
      "12  Materials scientist , electronic engineer and Australian Research Council ( ...  \n",
      "13            chemist and nanotechnologist ; recipient of the Tolman Award ( 2008 )  \n",
      "14       chemist ; Adjunct Professor and Director of the IICT -RMIT Research Centre  \n",
      "15                        Old Kernot Engineering School at RMIT named in his honour  \n",
      "16                                geologist ; recipient of the Lyell Medal ( 1927 )  \n",
      "17                                                                       astronomer  \n",
      "18                                                                aircraft designer  \n",
      "19            head of the engine and electronics department for the Ferrari F1 team  },\n",
      "    {   'answer': 'Christopher Wren',\n",
      "        'context':                  Name                Years   \n",
      "0     John Bainbridge  1620 or 1621 - 1643  \\\n",
      "1        John Greaves              1643-48   \n",
      "2           Seth Ward              1649-60   \n",
      "3    Christopher Wren              1661-73   \n",
      "4      Edward Bernard              1673-91   \n",
      "5       David Gregory            1691-1708   \n",
      "6        John Caswell              1709-12   \n",
      "7          John Keill              1712-21   \n",
      "8       James Bradley              1721-62   \n",
      "9      Thomas Hornsby            1763-1810   \n",
      "10  Abraham Robertson              1810-26   \n",
      "11     Stephen Rigaud              1827-39   \n",
      "12     George Johnson              1839-42   \n",
      "13     William Donkin              1842-69   \n",
      "14  Charles Pritchard              1870-93   \n",
      "15     Herbert Turner            1893-1930   \n",
      "16     Harry Plaskett              1932-60   \n",
      "17   Donald Blackwell              1960-88   \n",
      "18  George Efstathiou              1988-97   \n",
      "19        Joseph Silk            1999-2012   \n",
      "\n",
      "                                                               Education   \n",
      "0                           University of Cambridge ( Emmanuel College )  \\\n",
      "1                                                        Balliol College   \n",
      "2                      University of Cambridge ( Sidney Sussex College )   \n",
      "3                                                         Wadham College   \n",
      "4                                                     St John 's College   \n",
      "5   Marischal College and University of Aberdeen , and Leiden University   \n",
      "6                                                         Wadham College   \n",
      "7                            University of Edinburgh and Balliol College   \n",
      "8                                                        Balliol College   \n",
      "9                                                 Corpus Christi College   \n",
      "10                                                         Christ Church   \n",
      "11                                                        Exeter College   \n",
      "12                                                  The Queen 's College   \n",
      "13                                 St Edmund Hall and University College   \n",
      "14                        University of Cambridge ( St John 's College )   \n",
      "15                           University of Cambridge ( Trinity College )   \n",
      "16                   University of Toronto and Imperial College , London   \n",
      "17                     University of Cambridge ( Sidney Sussex College )   \n",
      "18                            Keble College and the University of Durham   \n",
      "19      University of Cambridge ( Clare College ) and Harvard University   \n",
      "\n",
      "                  College as professor   \n",
      "0                       Merton College  \\\n",
      "1                       Merton College   \n",
      "2   Wadham College and Trinity College   \n",
      "3                    All Souls College   \n",
      "4                   St John 's College   \n",
      "5                      Balliol College   \n",
      "6                            Hart Hall   \n",
      "7                      Balliol College   \n",
      "8                                    -   \n",
      "9               Corpus Christi College   \n",
      "10                       Christ Church   \n",
      "11                                   -   \n",
      "12                The Queen 's College   \n",
      "13                  University College   \n",
      "14                         New College   \n",
      "15                         New College   \n",
      "16                         New College   \n",
      "17                         New College   \n",
      "18                         New College   \n",
      "19                         New College   \n",
      "\n",
      "                                                                              Notes  \n",
      "0   Bainbridge practised as a physician in Leicestershire and London after leavi...  \n",
      "1   Greaves began studying astronomical texts in Greek , Arabic and Persian at a...  \n",
      "2   When still an undergraduate , Ward impressed John Bainbridge ( the first ast...  \n",
      "3   As an undergraduate , Wren joined the circle of mathematicians and natural s...  \n",
      "4   Bernard studied Hebrew , Arabic , Syriac and Coptic with Edward Pococke ( La...  \n",
      "5   Gregory studied in his native Scotland and befriended the Edinburgh physicia...  \n",
      "6   Carswell matriculated at Wadham College , Oxford , when he was 16 years old ...  \n",
      "7   Keill studied in Edinburgh with David Gregory and moved to Balliol with him ...  \n",
      "8   Bradley was the nephew of James Pound , a leading astronomer who was a colle...  \n",
      "9   Hornsby , who had an observatory at Corpus Christi , gained a high reputatio...  \n",
      "10  Robertson started studying at Oxford aged 24 , having previously run ( unsuc...  \n",
      "11  Rigaud , whose father was the observer at Kew Observatory , made his first r...  \n",
      "12  Johnson was a mathematician and priest with little practical knowledge of as...  \n",
      "13  Donkin , a talented linguist , mathematician and musician , published papers...  \n",
      "14  After leaving Cambridge , Pritchard was headmaster of a grammar school in St...  \n",
      "15  Turner was second wrangler ( achieved the second-highest marks in the Cambri...  \n",
      "16  Plaskett , a solar physicist , was the son of the Canadian astronomer John S...  \n",
      "17  Blackwell was assistant director of the Solar Physics Observatory at Cambrid...  \n",
      "18  After completing his studies at Oxford and Durham , Efstathiou worked as an ...  \n",
      "19  After obtaining his doctorate from Harvard , Silk returned to England to car...  },\n",
      "    {   'answer': 'Christopher Wren',\n",
      "        'context':                  Name                Years   \n",
      "0     John Bainbridge  1620 or 1621 - 1643  \\\n",
      "1        John Greaves              1643-48   \n",
      "2           Seth Ward              1649-60   \n",
      "3    Christopher Wren              1661-73   \n",
      "4      Edward Bernard              1673-91   \n",
      "5       David Gregory            1691-1708   \n",
      "6        John Caswell              1709-12   \n",
      "7          John Keill              1712-21   \n",
      "8       James Bradley              1721-62   \n",
      "9      Thomas Hornsby            1763-1810   \n",
      "10  Abraham Robertson              1810-26   \n",
      "11     Stephen Rigaud              1827-39   \n",
      "12     George Johnson              1839-42   \n",
      "13     William Donkin              1842-69   \n",
      "14  Charles Pritchard              1870-93   \n",
      "15     Herbert Turner            1893-1930   \n",
      "16     Harry Plaskett              1932-60   \n",
      "17   Donald Blackwell              1960-88   \n",
      "18  George Efstathiou              1988-97   \n",
      "19        Joseph Silk            1999-2012   \n",
      "\n",
      "                                                               Education   \n",
      "0                           University of Cambridge ( Emmanuel College )  \\\n",
      "1                                                        Balliol College   \n",
      "2                      University of Cambridge ( Sidney Sussex College )   \n",
      "3                                                         Wadham College   \n",
      "4                                                     St John 's College   \n",
      "5   Marischal College and University of Aberdeen , and Leiden University   \n",
      "6                                                         Wadham College   \n",
      "7                            University of Edinburgh and Balliol College   \n",
      "8                                                        Balliol College   \n",
      "9                                                 Corpus Christi College   \n",
      "10                                                         Christ Church   \n",
      "11                                                        Exeter College   \n",
      "12                                                  The Queen 's College   \n",
      "13                                 St Edmund Hall and University College   \n",
      "14                        University of Cambridge ( St John 's College )   \n",
      "15                           University of Cambridge ( Trinity College )   \n",
      "16                   University of Toronto and Imperial College , London   \n",
      "17                     University of Cambridge ( Sidney Sussex College )   \n",
      "18                            Keble College and the University of Durham   \n",
      "19      University of Cambridge ( Clare College ) and Harvard University   \n",
      "\n",
      "                  College as professor   \n",
      "0                       Merton College  \\\n",
      "1                       Merton College   \n",
      "2   Wadham College and Trinity College   \n",
      "3                    All Souls College   \n",
      "4                   St John 's College   \n",
      "5                      Balliol College   \n",
      "6                            Hart Hall   \n",
      "7                      Balliol College   \n",
      "8                                    -   \n",
      "9               Corpus Christi College   \n",
      "10                       Christ Church   \n",
      "11                                   -   \n",
      "12                The Queen 's College   \n",
      "13                  University College   \n",
      "14                         New College   \n",
      "15                         New College   \n",
      "16                         New College   \n",
      "17                         New College   \n",
      "18                         New College   \n",
      "19                         New College   \n",
      "\n",
      "                                                                              Notes  \n",
      "0   Bainbridge practised as a physician in Leicestershire and London after leavi...  \n",
      "1   Greaves began studying astronomical texts in Greek , Arabic and Persian at a...  \n",
      "2   When still an undergraduate , Ward impressed John Bainbridge ( the first ast...  \n",
      "3   As an undergraduate , Wren joined the circle of mathematicians and natural s...  \n",
      "4   Bernard studied Hebrew , Arabic , Syriac and Coptic with Edward Pococke ( La...  \n",
      "5   Gregory studied in his native Scotland and befriended the Edinburgh physicia...  \n",
      "6   Carswell matriculated at Wadham College , Oxford , when he was 16 years old ...  \n",
      "7   Keill studied in Edinburgh with David Gregory and moved to Balliol with him ...  \n",
      "8   Bradley was the nephew of James Pound , a leading astronomer who was a colle...  \n",
      "9   Hornsby , who had an observatory at Corpus Christi , gained a high reputatio...  \n",
      "10  Robertson started studying at Oxford aged 24 , having previously run ( unsuc...  \n",
      "11  Rigaud , whose father was the observer at Kew Observatory , made his first r...  \n",
      "12  Johnson was a mathematician and priest with little practical knowledge of as...  \n",
      "13  Donkin , a talented linguist , mathematician and musician , published papers...  \n",
      "14  After leaving Cambridge , Pritchard was headmaster of a grammar school in St...  \n",
      "15  Turner was second wrangler ( achieved the second-highest marks in the Cambri...  \n",
      "16  Plaskett , a solar physicist , was the son of the Canadian astronomer John S...  \n",
      "17  Blackwell was assistant director of the Solar Physics Observatory at Cambrid...  \n",
      "18  After completing his studies at Oxford and Durham , Efstathiou worked as an ...  \n",
      "19  After obtaining his doctorate from Harvard , Silk returned to England to car...  },\n",
      "    {   'answer': 'Ceramica Pagnossin Team MRD',\n",
      "        'context':     Year                                      Entrant            Chassis   \n",
      "0   1969                    Roy Winkelmann Racing Ltd       Lotus 59B F2  \\\n",
      "1   1970                         Auto Motor Und Sport       Brabham BT33   \n",
      "2   1971  Auto Motor Und Sport-Eifelland Team Surtees        Surtees TS7   \n",
      "3   1971  Auto Motor Und Sport-Eifelland Team Surtees        Surtees TS9   \n",
      "4   1972                      Team Eifelland Caravans  Eifelland Type 21   \n",
      "5   1973                  Ceramica Pagnossin Team MRD       Brabham BT42   \n",
      "6   1974                               Embassy Racing          Lola T370   \n",
      "7   1975                               Embassy Racing          Lola T370   \n",
      "8   1975                               Embassy Racing          Lola T371   \n",
      "9   1975                               Embassy Racing           Hill GH1   \n",
      "10  1976                               Martini Racing       Brabham BT45   \n",
      "11  1976                               Hesketh Racing       Hesketh 308D   \n",
      "12  1978                           Arrows Racing Team         Arrows FA1   \n",
      "13  1978                           Arrows Racing Team          Arrows A1   \n",
      "\n",
      "                Engine Points  \n",
      "0      Ford Straight-4      0  \n",
      "1          Cosworth V8     10  \n",
      "2          Cosworth V8      3  \n",
      "3          Cosworth V8      3  \n",
      "4          Cosworth V8      0  \n",
      "5          Cosworth V8      0  \n",
      "6          Cosworth V8      0  \n",
      "7          Cosworth V8      0  \n",
      "8          Cosworth V8      0  \n",
      "9          Cosworth V8      0  \n",
      "10  Alfa Romeo Flat-12      1  \n",
      "11         Cosworth V8      1  \n",
      "12         Cosworth V8      0  \n",
      "13         Cosworth V8      0  },\n",
      "    {   'answer': 'John Caswell',\n",
      "        'context':                  Name                Years   \n",
      "0     John Bainbridge  1620 or 1621 - 1643  \\\n",
      "1        John Greaves              1643-48   \n",
      "2           Seth Ward              1649-60   \n",
      "3    Christopher Wren              1661-73   \n",
      "4      Edward Bernard              1673-91   \n",
      "5       David Gregory            1691-1708   \n",
      "6        John Caswell              1709-12   \n",
      "7          John Keill              1712-21   \n",
      "8       James Bradley              1721-62   \n",
      "9      Thomas Hornsby            1763-1810   \n",
      "10  Abraham Robertson              1810-26   \n",
      "11     Stephen Rigaud              1827-39   \n",
      "12     George Johnson              1839-42   \n",
      "13     William Donkin              1842-69   \n",
      "14  Charles Pritchard              1870-93   \n",
      "15     Herbert Turner            1893-1930   \n",
      "16     Harry Plaskett              1932-60   \n",
      "17   Donald Blackwell              1960-88   \n",
      "18  George Efstathiou              1988-97   \n",
      "19        Joseph Silk            1999-2012   \n",
      "\n",
      "                                                               Education   \n",
      "0                           University of Cambridge ( Emmanuel College )  \\\n",
      "1                                                        Balliol College   \n",
      "2                      University of Cambridge ( Sidney Sussex College )   \n",
      "3                                                         Wadham College   \n",
      "4                                                     St John 's College   \n",
      "5   Marischal College and University of Aberdeen , and Leiden University   \n",
      "6                                                         Wadham College   \n",
      "7                            University of Edinburgh and Balliol College   \n",
      "8                                                        Balliol College   \n",
      "9                                                 Corpus Christi College   \n",
      "10                                                         Christ Church   \n",
      "11                                                        Exeter College   \n",
      "12                                                  The Queen 's College   \n",
      "13                                 St Edmund Hall and University College   \n",
      "14                        University of Cambridge ( St John 's College )   \n",
      "15                           University of Cambridge ( Trinity College )   \n",
      "16                   University of Toronto and Imperial College , London   \n",
      "17                     University of Cambridge ( Sidney Sussex College )   \n",
      "18                            Keble College and the University of Durham   \n",
      "19      University of Cambridge ( Clare College ) and Harvard University   \n",
      "\n",
      "                  College as professor   \n",
      "0                       Merton College  \\\n",
      "1                       Merton College   \n",
      "2   Wadham College and Trinity College   \n",
      "3                    All Souls College   \n",
      "4                   St John 's College   \n",
      "5                      Balliol College   \n",
      "6                            Hart Hall   \n",
      "7                      Balliol College   \n",
      "8                                    -   \n",
      "9               Corpus Christi College   \n",
      "10                       Christ Church   \n",
      "11                                   -   \n",
      "12                The Queen 's College   \n",
      "13                  University College   \n",
      "14                         New College   \n",
      "15                         New College   \n",
      "16                         New College   \n",
      "17                         New College   \n",
      "18                         New College   \n",
      "19                         New College   \n",
      "\n",
      "                                                                              Notes  \n",
      "0   Bainbridge practised as a physician in Leicestershire and London after leavi...  \n",
      "1   Greaves began studying astronomical texts in Greek , Arabic and Persian at a...  \n",
      "2   When still an undergraduate , Ward impressed John Bainbridge ( the first ast...  \n",
      "3   As an undergraduate , Wren joined the circle of mathematicians and natural s...  \n",
      "4   Bernard studied Hebrew , Arabic , Syriac and Coptic with Edward Pococke ( La...  \n",
      "5   Gregory studied in his native Scotland and befriended the Edinburgh physicia...  \n",
      "6   Carswell matriculated at Wadham College , Oxford , when he was 16 years old ...  \n",
      "7   Keill studied in Edinburgh with David Gregory and moved to Balliol with him ...  \n",
      "8   Bradley was the nephew of James Pound , a leading astronomer who was a colle...  \n",
      "9   Hornsby , who had an observatory at Corpus Christi , gained a high reputatio...  \n",
      "10  Robertson started studying at Oxford aged 24 , having previously run ( unsuc...  \n",
      "11  Rigaud , whose father was the observer at Kew Observatory , made his first r...  \n",
      "12  Johnson was a mathematician and priest with little practical knowledge of as...  \n",
      "13  Donkin , a talented linguist , mathematician and musician , published papers...  \n",
      "14  After leaving Cambridge , Pritchard was headmaster of a grammar school in St...  \n",
      "15  Turner was second wrangler ( achieved the second-highest marks in the Cambri...  \n",
      "16  Plaskett , a solar physicist , was the son of the Canadian astronomer John S...  \n",
      "17  Blackwell was assistant director of the Solar Physics Observatory at Cambrid...  \n",
      "18  After completing his studies at Oxford and Durham , Efstathiou worked as an ...  \n",
      "19  After obtaining his doctorate from Harvard , Silk returned to England to car...  },\n",
      "    {   'answer': 'John Caswell',\n",
      "        'context':                  Name                Years   \n",
      "0     John Bainbridge  1620 or 1621 - 1643  \\\n",
      "1        John Greaves              1643-48   \n",
      "2           Seth Ward              1649-60   \n",
      "3    Christopher Wren              1661-73   \n",
      "4      Edward Bernard              1673-91   \n",
      "5       David Gregory            1691-1708   \n",
      "6        John Caswell              1709-12   \n",
      "7          John Keill              1712-21   \n",
      "8       James Bradley              1721-62   \n",
      "9      Thomas Hornsby            1763-1810   \n",
      "10  Abraham Robertson              1810-26   \n",
      "11     Stephen Rigaud              1827-39   \n",
      "12     George Johnson              1839-42   \n",
      "13     William Donkin              1842-69   \n",
      "14  Charles Pritchard              1870-93   \n",
      "15     Herbert Turner            1893-1930   \n",
      "16     Harry Plaskett              1932-60   \n",
      "17   Donald Blackwell              1960-88   \n",
      "18  George Efstathiou              1988-97   \n",
      "19        Joseph Silk            1999-2012   \n",
      "\n",
      "                                                               Education   \n",
      "0                           University of Cambridge ( Emmanuel College )  \\\n",
      "1                                                        Balliol College   \n",
      "2                      University of Cambridge ( Sidney Sussex College )   \n",
      "3                                                         Wadham College   \n",
      "4                                                     St John 's College   \n",
      "5   Marischal College and University of Aberdeen , and Leiden University   \n",
      "6                                                         Wadham College   \n",
      "7                            University of Edinburgh and Balliol College   \n",
      "8                                                        Balliol College   \n",
      "9                                                 Corpus Christi College   \n",
      "10                                                         Christ Church   \n",
      "11                                                        Exeter College   \n",
      "12                                                  The Queen 's College   \n",
      "13                                 St Edmund Hall and University College   \n",
      "14                        University of Cambridge ( St John 's College )   \n",
      "15                           University of Cambridge ( Trinity College )   \n",
      "16                   University of Toronto and Imperial College , London   \n",
      "17                     University of Cambridge ( Sidney Sussex College )   \n",
      "18                            Keble College and the University of Durham   \n",
      "19      University of Cambridge ( Clare College ) and Harvard University   \n",
      "\n",
      "                  College as professor   \n",
      "0                       Merton College  \\\n",
      "1                       Merton College   \n",
      "2   Wadham College and Trinity College   \n",
      "3                    All Souls College   \n",
      "4                   St John 's College   \n",
      "5                      Balliol College   \n",
      "6                            Hart Hall   \n",
      "7                      Balliol College   \n",
      "8                                    -   \n",
      "9               Corpus Christi College   \n",
      "10                       Christ Church   \n",
      "11                                   -   \n",
      "12                The Queen 's College   \n",
      "13                  University College   \n",
      "14                         New College   \n",
      "15                         New College   \n",
      "16                         New College   \n",
      "17                         New College   \n",
      "18                         New College   \n",
      "19                         New College   \n",
      "\n",
      "                                                                              Notes  \n",
      "0   Bainbridge practised as a physician in Leicestershire and London after leavi...  \n",
      "1   Greaves began studying astronomical texts in Greek , Arabic and Persian at a...  \n",
      "2   When still an undergraduate , Ward impressed John Bainbridge ( the first ast...  \n",
      "3   As an undergraduate , Wren joined the circle of mathematicians and natural s...  \n",
      "4   Bernard studied Hebrew , Arabic , Syriac and Coptic with Edward Pococke ( La...  \n",
      "5   Gregory studied in his native Scotland and befriended the Edinburgh physicia...  \n",
      "6   Carswell matriculated at Wadham College , Oxford , when he was 16 years old ...  \n",
      "7   Keill studied in Edinburgh with David Gregory and moved to Balliol with him ...  \n",
      "8   Bradley was the nephew of James Pound , a leading astronomer who was a colle...  \n",
      "9   Hornsby , who had an observatory at Corpus Christi , gained a high reputatio...  \n",
      "10  Robertson started studying at Oxford aged 24 , having previously run ( unsuc...  \n",
      "11  Rigaud , whose father was the observer at Kew Observatory , made his first r...  \n",
      "12  Johnson was a mathematician and priest with little practical knowledge of as...  \n",
      "13  Donkin , a talented linguist , mathematician and musician , published papers...  \n",
      "14  After leaving Cambridge , Pritchard was headmaster of a grammar school in St...  \n",
      "15  Turner was second wrangler ( achieved the second-highest marks in the Cambri...  \n",
      "16  Plaskett , a solar physicist , was the son of the Canadian astronomer John S...  \n",
      "17  Blackwell was assistant director of the Solar Physics Observatory at Cambrid...  \n",
      "18  After completing his studies at Oxford and Durham , Efstathiou worked as an ...  \n",
      "19  After obtaining his doctorate from Harvard , Silk returned to England to car...  },\n",
      "    {   'answer': 'Thomas Hornsby',\n",
      "        'context':                  Name                Years   \n",
      "0     John Bainbridge  1620 or 1621 - 1643  \\\n",
      "1        John Greaves              1643-48   \n",
      "2           Seth Ward              1649-60   \n",
      "3    Christopher Wren              1661-73   \n",
      "4      Edward Bernard              1673-91   \n",
      "5       David Gregory            1691-1708   \n",
      "6        John Caswell              1709-12   \n",
      "7          John Keill              1712-21   \n",
      "8       James Bradley              1721-62   \n",
      "9      Thomas Hornsby            1763-1810   \n",
      "10  Abraham Robertson              1810-26   \n",
      "11     Stephen Rigaud              1827-39   \n",
      "12     George Johnson              1839-42   \n",
      "13     William Donkin              1842-69   \n",
      "14  Charles Pritchard              1870-93   \n",
      "15     Herbert Turner            1893-1930   \n",
      "16     Harry Plaskett              1932-60   \n",
      "17   Donald Blackwell              1960-88   \n",
      "18  George Efstathiou              1988-97   \n",
      "19        Joseph Silk            1999-2012   \n",
      "\n",
      "                                                               Education   \n",
      "0                           University of Cambridge ( Emmanuel College )  \\\n",
      "1                                                        Balliol College   \n",
      "2                      University of Cambridge ( Sidney Sussex College )   \n",
      "3                                                         Wadham College   \n",
      "4                                                     St John 's College   \n",
      "5   Marischal College and University of Aberdeen , and Leiden University   \n",
      "6                                                         Wadham College   \n",
      "7                            University of Edinburgh and Balliol College   \n",
      "8                                                        Balliol College   \n",
      "9                                                 Corpus Christi College   \n",
      "10                                                         Christ Church   \n",
      "11                                                        Exeter College   \n",
      "12                                                  The Queen 's College   \n",
      "13                                 St Edmund Hall and University College   \n",
      "14                        University of Cambridge ( St John 's College )   \n",
      "15                           University of Cambridge ( Trinity College )   \n",
      "16                   University of Toronto and Imperial College , London   \n",
      "17                     University of Cambridge ( Sidney Sussex College )   \n",
      "18                            Keble College and the University of Durham   \n",
      "19      University of Cambridge ( Clare College ) and Harvard University   \n",
      "\n",
      "                  College as professor   \n",
      "0                       Merton College  \\\n",
      "1                       Merton College   \n",
      "2   Wadham College and Trinity College   \n",
      "3                    All Souls College   \n",
      "4                   St John 's College   \n",
      "5                      Balliol College   \n",
      "6                            Hart Hall   \n",
      "7                      Balliol College   \n",
      "8                                    -   \n",
      "9               Corpus Christi College   \n",
      "10                       Christ Church   \n",
      "11                                   -   \n",
      "12                The Queen 's College   \n",
      "13                  University College   \n",
      "14                         New College   \n",
      "15                         New College   \n",
      "16                         New College   \n",
      "17                         New College   \n",
      "18                         New College   \n",
      "19                         New College   \n",
      "\n",
      "                                                                              Notes  \n",
      "0   Bainbridge practised as a physician in Leicestershire and London after leavi...  \n",
      "1   Greaves began studying astronomical texts in Greek , Arabic and Persian at a...  \n",
      "2   When still an undergraduate , Ward impressed John Bainbridge ( the first ast...  \n",
      "3   As an undergraduate , Wren joined the circle of mathematicians and natural s...  \n",
      "4   Bernard studied Hebrew , Arabic , Syriac and Coptic with Edward Pococke ( La...  \n",
      "5   Gregory studied in his native Scotland and befriended the Edinburgh physicia...  \n",
      "6   Carswell matriculated at Wadham College , Oxford , when he was 16 years old ...  \n",
      "7   Keill studied in Edinburgh with David Gregory and moved to Balliol with him ...  \n",
      "8   Bradley was the nephew of James Pound , a leading astronomer who was a colle...  \n",
      "9   Hornsby , who had an observatory at Corpus Christi , gained a high reputatio...  \n",
      "10  Robertson started studying at Oxford aged 24 , having previously run ( unsuc...  \n",
      "11  Rigaud , whose father was the observer at Kew Observatory , made his first r...  \n",
      "12  Johnson was a mathematician and priest with little practical knowledge of as...  \n",
      "13  Donkin , a talented linguist , mathematician and musician , published papers...  \n",
      "14  After leaving Cambridge , Pritchard was headmaster of a grammar school in St...  \n",
      "15  Turner was second wrangler ( achieved the second-highest marks in the Cambri...  \n",
      "16  Plaskett , a solar physicist , was the son of the Canadian astronomer John S...  \n",
      "17  Blackwell was assistant director of the Solar Physics Observatory at Cambrid...  \n",
      "18  After completing his studies at Oxford and Durham , Efstathiou worked as an ...  \n",
      "19  After obtaining his doctorate from Harvard , Silk returned to England to car...  },\n",
      "    {   'answer': 'Thomas Hornsby',\n",
      "        'context':                  Name                Years   \n",
      "0     John Bainbridge  1620 or 1621 - 1643  \\\n",
      "1        John Greaves              1643-48   \n",
      "2           Seth Ward              1649-60   \n",
      "3    Christopher Wren              1661-73   \n",
      "4      Edward Bernard              1673-91   \n",
      "5       David Gregory            1691-1708   \n",
      "6        John Caswell              1709-12   \n",
      "7          John Keill              1712-21   \n",
      "8       James Bradley              1721-62   \n",
      "9      Thomas Hornsby            1763-1810   \n",
      "10  Abraham Robertson              1810-26   \n",
      "11     Stephen Rigaud              1827-39   \n",
      "12     George Johnson              1839-42   \n",
      "13     William Donkin              1842-69   \n",
      "14  Charles Pritchard              1870-93   \n",
      "15     Herbert Turner            1893-1930   \n",
      "16     Harry Plaskett              1932-60   \n",
      "17   Donald Blackwell              1960-88   \n",
      "18  George Efstathiou              1988-97   \n",
      "19        Joseph Silk            1999-2012   \n",
      "\n",
      "                                                               Education   \n",
      "0                           University of Cambridge ( Emmanuel College )  \\\n",
      "1                                                        Balliol College   \n",
      "2                      University of Cambridge ( Sidney Sussex College )   \n",
      "3                                                         Wadham College   \n",
      "4                                                     St John 's College   \n",
      "5   Marischal College and University of Aberdeen , and Leiden University   \n",
      "6                                                         Wadham College   \n",
      "7                            University of Edinburgh and Balliol College   \n",
      "8                                                        Balliol College   \n",
      "9                                                 Corpus Christi College   \n",
      "10                                                         Christ Church   \n",
      "11                                                        Exeter College   \n",
      "12                                                  The Queen 's College   \n",
      "13                                 St Edmund Hall and University College   \n",
      "14                        University of Cambridge ( St John 's College )   \n",
      "15                           University of Cambridge ( Trinity College )   \n",
      "16                   University of Toronto and Imperial College , London   \n",
      "17                     University of Cambridge ( Sidney Sussex College )   \n",
      "18                            Keble College and the University of Durham   \n",
      "19      University of Cambridge ( Clare College ) and Harvard University   \n",
      "\n",
      "                  College as professor   \n",
      "0                       Merton College  \\\n",
      "1                       Merton College   \n",
      "2   Wadham College and Trinity College   \n",
      "3                    All Souls College   \n",
      "4                   St John 's College   \n",
      "5                      Balliol College   \n",
      "6                            Hart Hall   \n",
      "7                      Balliol College   \n",
      "8                                    -   \n",
      "9               Corpus Christi College   \n",
      "10                       Christ Church   \n",
      "11                                   -   \n",
      "12                The Queen 's College   \n",
      "13                  University College   \n",
      "14                         New College   \n",
      "15                         New College   \n",
      "16                         New College   \n",
      "17                         New College   \n",
      "18                         New College   \n",
      "19                         New College   \n",
      "\n",
      "                                                                              Notes  \n",
      "0   Bainbridge practised as a physician in Leicestershire and London after leavi...  \n",
      "1   Greaves began studying astronomical texts in Greek , Arabic and Persian at a...  \n",
      "2   When still an undergraduate , Ward impressed John Bainbridge ( the first ast...  \n",
      "3   As an undergraduate , Wren joined the circle of mathematicians and natural s...  \n",
      "4   Bernard studied Hebrew , Arabic , Syriac and Coptic with Edward Pococke ( La...  \n",
      "5   Gregory studied in his native Scotland and befriended the Edinburgh physicia...  \n",
      "6   Carswell matriculated at Wadham College , Oxford , when he was 16 years old ...  \n",
      "7   Keill studied in Edinburgh with David Gregory and moved to Balliol with him ...  \n",
      "8   Bradley was the nephew of James Pound , a leading astronomer who was a colle...  \n",
      "9   Hornsby , who had an observatory at Corpus Christi , gained a high reputatio...  \n",
      "10  Robertson started studying at Oxford aged 24 , having previously run ( unsuc...  \n",
      "11  Rigaud , whose father was the observer at Kew Observatory , made his first r...  \n",
      "12  Johnson was a mathematician and priest with little practical knowledge of as...  \n",
      "13  Donkin , a talented linguist , mathematician and musician , published papers...  \n",
      "14  After leaving Cambridge , Pritchard was headmaster of a grammar school in St...  \n",
      "15  Turner was second wrangler ( achieved the second-highest marks in the Cambri...  \n",
      "16  Plaskett , a solar physicist , was the son of the Canadian astronomer John S...  \n",
      "17  Blackwell was assistant director of the Solar Physics Observatory at Cambrid...  \n",
      "18  After completing his studies at Oxford and Durham , Efstathiou worked as an ...  \n",
      "19  After obtaining his doctorate from Harvard , Silk returned to England to car...  },\n",
      "    {   'answer': 'References',\n",
      "        'context': 'Pyromania\\n'\n",
      "                   '* Self-immolation\\n'\n",
      "                   \"* ''The Chemical History of a Candle''\\n\"\n",
      "                   '\\n'\n",
      "                   '==References==\\n'\n",
      "                   '\\n'\n",
      "                   '==Bibliography==\\n'\n",
      "                   '*\\n'\n",
      "                   '* Haung, Kai. 2009. Population and Building Fac'},\n",
      "    {   'answer': 'References==\\n\\n==Bibliography==',\n",
      "        'context': '* Self-immolation\\n'\n",
      "                   \"* ''The Chemical History of a Candle''\\n\"\n",
      "                   '\\n'\n",
      "                   '==References==\\n'\n",
      "                   '\\n'\n",
      "                   '==Bibliography==\\n'\n",
      "                   '*\\n'\n",
      "                   '* Haung, Kai. 2009. Population and Building Factors That '}]\n"
     ]
    }
   ],
   "source": [
    "print_answers(predictions, details=\"minimum\")"
   ]
  },
  {
   "cell_type": "code",
   "execution_count": 22,
   "metadata": {},
   "outputs": [
    {
     "data": {
      "application/vnd.jupyter.widget-view+json": {
       "model_id": "674f3228faca45a7aad86d692dac0b38",
       "version_major": 2,
       "version_minor": 0
      },
      "text/plain": [
       "Batches:   0%|          | 0/1 [00:00<?, ?it/s]"
      ]
     },
     "metadata": {},
     "output_type": "display_data"
    },
    {
     "name": "stderr",
     "output_type": "stream",
     "text": [
      "/home/khoa/anaconda3/envs/haystack/lib/python3.10/site-packages/elasticsearch/connection/base.py:200: ElasticsearchWarning: Elasticsearch built-in security features are not enabled. Without authentication, your cluster could be accessible to anyone. See https://www.elastic.co/guide/en/elasticsearch/reference/7.17/security-minimal-setup.html to enable security.\n",
      "  warnings.warn(message, category=ElasticsearchWarning)\n"
     ]
    }
   ],
   "source": [
    "predictions = text_table_qa_pipeline.run(\n",
    "    query=\"Which country does the film Macaroni come from?\"\n",
    ")"
   ]
  },
  {
   "cell_type": "code",
   "execution_count": 23,
   "metadata": {},
   "outputs": [
    {
     "name": "stdout",
     "output_type": "stream",
     "text": [
      "'Query: Which country does the film Macaroni come from?'\n",
      "'Answers:'\n",
      "[   {   'answer': 'Italian',\n",
      "        'context':    Submitting country Film title used in nomination        Language ( s )   \n",
      "0           Argentina            The Official Story               Spanish  \\\n",
      "1             Austria                       Malambo                German   \n",
      "2             Belgium                          Dust                French   \n",
      "3              Canada          Jacques and November                French   \n",
      "4      Czechoslovakia              Scalpel , Please                 Czech   \n",
      "5             Denmark               Twist and Shout                Danish   \n",
      "6              France        Three Men and a Cradle                French   \n",
      "7        West Germany                 Angry Harvest                German   \n",
      "8             Hungary                  Colonel Redl                German   \n",
      "9             Iceland                   Deep Winter             Icelandic   \n",
      "10              India                        Saagar                 Hindi   \n",
      "11             Israel              When Night Falls                Hebrew   \n",
      "12              Italy                      Macaroni               Italian   \n",
      "13              Japan                   Gray Sunset              Japanese   \n",
      "14        South Korea                       Eoudong                Korean   \n",
      "15             Mexico              Frida Still Life               Spanish   \n",
      "16        Netherlands                     The Dream  Dutch , West Frisian   \n",
      "17             Norway       Wives - Ten Years After             Norwegian   \n",
      "18               Peru         The City and the Dogs               Spanish   \n",
      "19        Philippines            This Is My Country               Tagalog   \n",
      "\n",
      "                 Original title                     Director ( s )   \n",
      "0           La Historia oficial                        Luis Puenzo  \\\n",
      "1                       Malambo                          Milan Dor   \n",
      "2                          Dust                      Marion Hänsel   \n",
      "3           Jacques et novembre  Jean Beaudry and François Bouvier   \n",
      "4              Skalpel , prosím                       Jirí Svoboda   \n",
      "5        Tro , håb og kærlighed                       Bille August   \n",
      "6    Trois hommes et un couffin                     Coline Serreau   \n",
      "7                 Bittere Ernte                  Agnieszka Holland   \n",
      "8                   Oberst Redl                       István Szabó   \n",
      "9                     Skammdegi                  Þráinn Bertelsson   \n",
      "10                         सागर                       Ramesh Sippy   \n",
      "11                 עד סוף הלילה                        Eitan Green   \n",
      "12                   Maccheroni                       Ettore Scola   \n",
      "13                       花いちもんめ                         Shunya Ito   \n",
      "14                          어우동                        Lee Jang-ho   \n",
      "15      Frida , naturaleza viva                         Paul Leduc   \n",
      "16                     De Dream                    Pieter Verhoeff   \n",
      "17       Hustruer - ti år etter                        Anja Breien   \n",
      "18       La ciudad y los perros            Francisco José Lombardi   \n",
      "19  Bayan ko : Kapit sa patalim                        Lino Brocka   \n",
      "\n",
      "               Result  \n",
      "0   Won Academy Award  \n",
      "1       Not Nominated  \n",
      "2       Not Nominated  \n",
      "3       Not Nominated  \n",
      "4       Not Nominated  \n",
      "5       Not Nominated  \n",
      "6           Nominated  \n",
      "7           Nominated  \n",
      "8           Nominated  \n",
      "9       Not Nominated  \n",
      "10      Not Nominated  \n",
      "11      Not Nominated  \n",
      "12      Not Nominated  \n",
      "13      Not Nominated  \n",
      "14      Not Nominated  \n",
      "15      Not Nominated  \n",
      "16      Not Nominated  \n",
      "17      Not Nominated  \n",
      "18      Not Nominated  \n",
      "19      Not Nominated  },\n",
      "    {   'answer': 'Italian',\n",
      "        'context':    Submitting country Film title used in nomination        Language ( s )   \n",
      "0           Argentina            The Official Story               Spanish  \\\n",
      "1             Austria                       Malambo                German   \n",
      "2             Belgium                          Dust                French   \n",
      "3              Canada          Jacques and November                French   \n",
      "4      Czechoslovakia              Scalpel , Please                 Czech   \n",
      "5             Denmark               Twist and Shout                Danish   \n",
      "6              France        Three Men and a Cradle                French   \n",
      "7        West Germany                 Angry Harvest                German   \n",
      "8             Hungary                  Colonel Redl                German   \n",
      "9             Iceland                   Deep Winter             Icelandic   \n",
      "10              India                        Saagar                 Hindi   \n",
      "11             Israel              When Night Falls                Hebrew   \n",
      "12              Italy                      Macaroni               Italian   \n",
      "13              Japan                   Gray Sunset              Japanese   \n",
      "14        South Korea                       Eoudong                Korean   \n",
      "15             Mexico              Frida Still Life               Spanish   \n",
      "16        Netherlands                     The Dream  Dutch , West Frisian   \n",
      "17             Norway       Wives - Ten Years After             Norwegian   \n",
      "18               Peru         The City and the Dogs               Spanish   \n",
      "19        Philippines            This Is My Country               Tagalog   \n",
      "\n",
      "                 Original title                     Director ( s )   \n",
      "0           La Historia oficial                        Luis Puenzo  \\\n",
      "1                       Malambo                          Milan Dor   \n",
      "2                          Dust                      Marion Hänsel   \n",
      "3           Jacques et novembre  Jean Beaudry and François Bouvier   \n",
      "4              Skalpel , prosím                       Jirí Svoboda   \n",
      "5        Tro , håb og kærlighed                       Bille August   \n",
      "6    Trois hommes et un couffin                     Coline Serreau   \n",
      "7                 Bittere Ernte                  Agnieszka Holland   \n",
      "8                   Oberst Redl                       István Szabó   \n",
      "9                     Skammdegi                  Þráinn Bertelsson   \n",
      "10                         सागर                       Ramesh Sippy   \n",
      "11                 עד סוף הלילה                        Eitan Green   \n",
      "12                   Maccheroni                       Ettore Scola   \n",
      "13                       花いちもんめ                         Shunya Ito   \n",
      "14                          어우동                        Lee Jang-ho   \n",
      "15      Frida , naturaleza viva                         Paul Leduc   \n",
      "16                     De Dream                    Pieter Verhoeff   \n",
      "17       Hustruer - ti år etter                        Anja Breien   \n",
      "18       La ciudad y los perros            Francisco José Lombardi   \n",
      "19  Bayan ko : Kapit sa patalim                        Lino Brocka   \n",
      "\n",
      "               Result  \n",
      "0   Won Academy Award  \n",
      "1       Not Nominated  \n",
      "2       Not Nominated  \n",
      "3       Not Nominated  \n",
      "4       Not Nominated  \n",
      "5       Not Nominated  \n",
      "6           Nominated  \n",
      "7           Nominated  \n",
      "8           Nominated  \n",
      "9       Not Nominated  \n",
      "10      Not Nominated  \n",
      "11      Not Nominated  \n",
      "12      Not Nominated  \n",
      "13      Not Nominated  \n",
      "14      Not Nominated  \n",
      "15      Not Nominated  \n",
      "16      Not Nominated  \n",
      "17      Not Nominated  \n",
      "18      Not Nominated  \n",
      "19      Not Nominated  },\n",
      "    {   'answer': 'Icelandic',\n",
      "        'context':    Submitting country Film title used in nomination        Language ( s )   \n",
      "0           Argentina            The Official Story               Spanish  \\\n",
      "1             Austria                       Malambo                German   \n",
      "2             Belgium                          Dust                French   \n",
      "3              Canada          Jacques and November                French   \n",
      "4      Czechoslovakia              Scalpel , Please                 Czech   \n",
      "5             Denmark               Twist and Shout                Danish   \n",
      "6              France        Three Men and a Cradle                French   \n",
      "7        West Germany                 Angry Harvest                German   \n",
      "8             Hungary                  Colonel Redl                German   \n",
      "9             Iceland                   Deep Winter             Icelandic   \n",
      "10              India                        Saagar                 Hindi   \n",
      "11             Israel              When Night Falls                Hebrew   \n",
      "12              Italy                      Macaroni               Italian   \n",
      "13              Japan                   Gray Sunset              Japanese   \n",
      "14        South Korea                       Eoudong                Korean   \n",
      "15             Mexico              Frida Still Life               Spanish   \n",
      "16        Netherlands                     The Dream  Dutch , West Frisian   \n",
      "17             Norway       Wives - Ten Years After             Norwegian   \n",
      "18               Peru         The City and the Dogs               Spanish   \n",
      "19        Philippines            This Is My Country               Tagalog   \n",
      "\n",
      "                 Original title                     Director ( s )   \n",
      "0           La Historia oficial                        Luis Puenzo  \\\n",
      "1                       Malambo                          Milan Dor   \n",
      "2                          Dust                      Marion Hänsel   \n",
      "3           Jacques et novembre  Jean Beaudry and François Bouvier   \n",
      "4              Skalpel , prosím                       Jirí Svoboda   \n",
      "5        Tro , håb og kærlighed                       Bille August   \n",
      "6    Trois hommes et un couffin                     Coline Serreau   \n",
      "7                 Bittere Ernte                  Agnieszka Holland   \n",
      "8                   Oberst Redl                       István Szabó   \n",
      "9                     Skammdegi                  Þráinn Bertelsson   \n",
      "10                         सागर                       Ramesh Sippy   \n",
      "11                 עד סוף הלילה                        Eitan Green   \n",
      "12                   Maccheroni                       Ettore Scola   \n",
      "13                       花いちもんめ                         Shunya Ito   \n",
      "14                          어우동                        Lee Jang-ho   \n",
      "15      Frida , naturaleza viva                         Paul Leduc   \n",
      "16                     De Dream                    Pieter Verhoeff   \n",
      "17       Hustruer - ti år etter                        Anja Breien   \n",
      "18       La ciudad y los perros            Francisco José Lombardi   \n",
      "19  Bayan ko : Kapit sa patalim                        Lino Brocka   \n",
      "\n",
      "               Result  \n",
      "0   Won Academy Award  \n",
      "1       Not Nominated  \n",
      "2       Not Nominated  \n",
      "3       Not Nominated  \n",
      "4       Not Nominated  \n",
      "5       Not Nominated  \n",
      "6           Nominated  \n",
      "7           Nominated  \n",
      "8           Nominated  \n",
      "9       Not Nominated  \n",
      "10      Not Nominated  \n",
      "11      Not Nominated  \n",
      "12      Not Nominated  \n",
      "13      Not Nominated  \n",
      "14      Not Nominated  \n",
      "15      Not Nominated  \n",
      "16      Not Nominated  \n",
      "17      Not Nominated  \n",
      "18      Not Nominated  \n",
      "19      Not Nominated  },\n",
      "    {   'answer': 'Icelandic',\n",
      "        'context':    Submitting country Film title used in nomination        Language ( s )   \n",
      "0           Argentina            The Official Story               Spanish  \\\n",
      "1             Austria                       Malambo                German   \n",
      "2             Belgium                          Dust                French   \n",
      "3              Canada          Jacques and November                French   \n",
      "4      Czechoslovakia              Scalpel , Please                 Czech   \n",
      "5             Denmark               Twist and Shout                Danish   \n",
      "6              France        Three Men and a Cradle                French   \n",
      "7        West Germany                 Angry Harvest                German   \n",
      "8             Hungary                  Colonel Redl                German   \n",
      "9             Iceland                   Deep Winter             Icelandic   \n",
      "10              India                        Saagar                 Hindi   \n",
      "11             Israel              When Night Falls                Hebrew   \n",
      "12              Italy                      Macaroni               Italian   \n",
      "13              Japan                   Gray Sunset              Japanese   \n",
      "14        South Korea                       Eoudong                Korean   \n",
      "15             Mexico              Frida Still Life               Spanish   \n",
      "16        Netherlands                     The Dream  Dutch , West Frisian   \n",
      "17             Norway       Wives - Ten Years After             Norwegian   \n",
      "18               Peru         The City and the Dogs               Spanish   \n",
      "19        Philippines            This Is My Country               Tagalog   \n",
      "\n",
      "                 Original title                     Director ( s )   \n",
      "0           La Historia oficial                        Luis Puenzo  \\\n",
      "1                       Malambo                          Milan Dor   \n",
      "2                          Dust                      Marion Hänsel   \n",
      "3           Jacques et novembre  Jean Beaudry and François Bouvier   \n",
      "4              Skalpel , prosím                       Jirí Svoboda   \n",
      "5        Tro , håb og kærlighed                       Bille August   \n",
      "6    Trois hommes et un couffin                     Coline Serreau   \n",
      "7                 Bittere Ernte                  Agnieszka Holland   \n",
      "8                   Oberst Redl                       István Szabó   \n",
      "9                     Skammdegi                  Þráinn Bertelsson   \n",
      "10                         सागर                       Ramesh Sippy   \n",
      "11                 עד סוף הלילה                        Eitan Green   \n",
      "12                   Maccheroni                       Ettore Scola   \n",
      "13                       花いちもんめ                         Shunya Ito   \n",
      "14                          어우동                        Lee Jang-ho   \n",
      "15      Frida , naturaleza viva                         Paul Leduc   \n",
      "16                     De Dream                    Pieter Verhoeff   \n",
      "17       Hustruer - ti år etter                        Anja Breien   \n",
      "18       La ciudad y los perros            Francisco José Lombardi   \n",
      "19  Bayan ko : Kapit sa patalim                        Lino Brocka   \n",
      "\n",
      "               Result  \n",
      "0   Won Academy Award  \n",
      "1       Not Nominated  \n",
      "2       Not Nominated  \n",
      "3       Not Nominated  \n",
      "4       Not Nominated  \n",
      "5       Not Nominated  \n",
      "6           Nominated  \n",
      "7           Nominated  \n",
      "8           Nominated  \n",
      "9       Not Nominated  \n",
      "10      Not Nominated  \n",
      "11      Not Nominated  \n",
      "12      Not Nominated  \n",
      "13      Not Nominated  \n",
      "14      Not Nominated  \n",
      "15      Not Nominated  \n",
      "16      Not Nominated  \n",
      "17      Not Nominated  \n",
      "18      Not Nominated  \n",
      "19      Not Nominated  },\n",
      "    {   'answer': 'Japanese',\n",
      "        'context':    Submitting country Film title used in nomination        Language ( s )   \n",
      "0           Argentina            The Official Story               Spanish  \\\n",
      "1             Austria                       Malambo                German   \n",
      "2             Belgium                          Dust                French   \n",
      "3              Canada          Jacques and November                French   \n",
      "4      Czechoslovakia              Scalpel , Please                 Czech   \n",
      "5             Denmark               Twist and Shout                Danish   \n",
      "6              France        Three Men and a Cradle                French   \n",
      "7        West Germany                 Angry Harvest                German   \n",
      "8             Hungary                  Colonel Redl                German   \n",
      "9             Iceland                   Deep Winter             Icelandic   \n",
      "10              India                        Saagar                 Hindi   \n",
      "11             Israel              When Night Falls                Hebrew   \n",
      "12              Italy                      Macaroni               Italian   \n",
      "13              Japan                   Gray Sunset              Japanese   \n",
      "14        South Korea                       Eoudong                Korean   \n",
      "15             Mexico              Frida Still Life               Spanish   \n",
      "16        Netherlands                     The Dream  Dutch , West Frisian   \n",
      "17             Norway       Wives - Ten Years After             Norwegian   \n",
      "18               Peru         The City and the Dogs               Spanish   \n",
      "19        Philippines            This Is My Country               Tagalog   \n",
      "\n",
      "                 Original title                     Director ( s )   \n",
      "0           La Historia oficial                        Luis Puenzo  \\\n",
      "1                       Malambo                          Milan Dor   \n",
      "2                          Dust                      Marion Hänsel   \n",
      "3           Jacques et novembre  Jean Beaudry and François Bouvier   \n",
      "4              Skalpel , prosím                       Jirí Svoboda   \n",
      "5        Tro , håb og kærlighed                       Bille August   \n",
      "6    Trois hommes et un couffin                     Coline Serreau   \n",
      "7                 Bittere Ernte                  Agnieszka Holland   \n",
      "8                   Oberst Redl                       István Szabó   \n",
      "9                     Skammdegi                  Þráinn Bertelsson   \n",
      "10                         सागर                       Ramesh Sippy   \n",
      "11                 עד סוף הלילה                        Eitan Green   \n",
      "12                   Maccheroni                       Ettore Scola   \n",
      "13                       花いちもんめ                         Shunya Ito   \n",
      "14                          어우동                        Lee Jang-ho   \n",
      "15      Frida , naturaleza viva                         Paul Leduc   \n",
      "16                     De Dream                    Pieter Verhoeff   \n",
      "17       Hustruer - ti år etter                        Anja Breien   \n",
      "18       La ciudad y los perros            Francisco José Lombardi   \n",
      "19  Bayan ko : Kapit sa patalim                        Lino Brocka   \n",
      "\n",
      "               Result  \n",
      "0   Won Academy Award  \n",
      "1       Not Nominated  \n",
      "2       Not Nominated  \n",
      "3       Not Nominated  \n",
      "4       Not Nominated  \n",
      "5       Not Nominated  \n",
      "6           Nominated  \n",
      "7           Nominated  \n",
      "8           Nominated  \n",
      "9       Not Nominated  \n",
      "10      Not Nominated  \n",
      "11      Not Nominated  \n",
      "12      Not Nominated  \n",
      "13      Not Nominated  \n",
      "14      Not Nominated  \n",
      "15      Not Nominated  \n",
      "16      Not Nominated  \n",
      "17      Not Nominated  \n",
      "18      Not Nominated  \n",
      "19      Not Nominated  },\n",
      "    {   'answer': 'Japanese',\n",
      "        'context':    Submitting country Film title used in nomination        Language ( s )   \n",
      "0           Argentina            The Official Story               Spanish  \\\n",
      "1             Austria                       Malambo                German   \n",
      "2             Belgium                          Dust                French   \n",
      "3              Canada          Jacques and November                French   \n",
      "4      Czechoslovakia              Scalpel , Please                 Czech   \n",
      "5             Denmark               Twist and Shout                Danish   \n",
      "6              France        Three Men and a Cradle                French   \n",
      "7        West Germany                 Angry Harvest                German   \n",
      "8             Hungary                  Colonel Redl                German   \n",
      "9             Iceland                   Deep Winter             Icelandic   \n",
      "10              India                        Saagar                 Hindi   \n",
      "11             Israel              When Night Falls                Hebrew   \n",
      "12              Italy                      Macaroni               Italian   \n",
      "13              Japan                   Gray Sunset              Japanese   \n",
      "14        South Korea                       Eoudong                Korean   \n",
      "15             Mexico              Frida Still Life               Spanish   \n",
      "16        Netherlands                     The Dream  Dutch , West Frisian   \n",
      "17             Norway       Wives - Ten Years After             Norwegian   \n",
      "18               Peru         The City and the Dogs               Spanish   \n",
      "19        Philippines            This Is My Country               Tagalog   \n",
      "\n",
      "                 Original title                     Director ( s )   \n",
      "0           La Historia oficial                        Luis Puenzo  \\\n",
      "1                       Malambo                          Milan Dor   \n",
      "2                          Dust                      Marion Hänsel   \n",
      "3           Jacques et novembre  Jean Beaudry and François Bouvier   \n",
      "4              Skalpel , prosím                       Jirí Svoboda   \n",
      "5        Tro , håb og kærlighed                       Bille August   \n",
      "6    Trois hommes et un couffin                     Coline Serreau   \n",
      "7                 Bittere Ernte                  Agnieszka Holland   \n",
      "8                   Oberst Redl                       István Szabó   \n",
      "9                     Skammdegi                  Þráinn Bertelsson   \n",
      "10                         सागर                       Ramesh Sippy   \n",
      "11                 עד סוף הלילה                        Eitan Green   \n",
      "12                   Maccheroni                       Ettore Scola   \n",
      "13                       花いちもんめ                         Shunya Ito   \n",
      "14                          어우동                        Lee Jang-ho   \n",
      "15      Frida , naturaleza viva                         Paul Leduc   \n",
      "16                     De Dream                    Pieter Verhoeff   \n",
      "17       Hustruer - ti år etter                        Anja Breien   \n",
      "18       La ciudad y los perros            Francisco José Lombardi   \n",
      "19  Bayan ko : Kapit sa patalim                        Lino Brocka   \n",
      "\n",
      "               Result  \n",
      "0   Won Academy Award  \n",
      "1       Not Nominated  \n",
      "2       Not Nominated  \n",
      "3       Not Nominated  \n",
      "4       Not Nominated  \n",
      "5       Not Nominated  \n",
      "6           Nominated  \n",
      "7           Nominated  \n",
      "8           Nominated  \n",
      "9       Not Nominated  \n",
      "10      Not Nominated  \n",
      "11      Not Nominated  \n",
      "12      Not Nominated  \n",
      "13      Not Nominated  \n",
      "14      Not Nominated  \n",
      "15      Not Nominated  \n",
      "16      Not Nominated  \n",
      "17      Not Nominated  \n",
      "18      Not Nominated  \n",
      "19      Not Nominated  },\n",
      "    {   'answer': '2012',\n",
      "        'context':                                   Title  Year   \n",
      "0                   The American Scream  2012  \\\n",
      "1                            Dead Souls  2012   \n",
      "2                                 Ghoul  2012   \n",
      "3                               Beneath  2013   \n",
      "4   Chilling Visions : 5 Senses of Fear  2013   \n",
      "5                     The Monkey 's Paw  2013   \n",
      "6                                Animal  2014   \n",
      "7                  Deep in the Darkness  2014   \n",
      "8                               The Boy  2015   \n",
      "9                                 SiREN  2016   \n",
      "10                       Camera Obscura  2017   \n",
      "11                          Dementia 13  2017   \n",
      "\n",
      "                                                   Production Co  \n",
      "0                                 Chiller Films Brainstorm Media  \n",
      "1                            Chiller Films Synthetic Productions  \n",
      "2                                       Chiller Films Modernciné  \n",
      "3                                                  Glass Eye Pix  \n",
      "4                   Chiller Films Synthetic Cinema International  \n",
      "5                                                      TMP Films  \n",
      "6                    Flower Films Synthetic Cinema International  \n",
      "7                   Chiller Films Synthetic Cinema International  \n",
      "8                                                  SpectreVision  \n",
      "9                                                       Studio71  \n",
      "10  Chiller Films Hood River Entertainment Paper Street Pictures  \n",
      "11                            Pipeline Entertainment Haloran LLC  },\n",
      "    {   'answer': '2012',\n",
      "        'context':                                   Title  Year   \n",
      "0                   The American Scream  2012  \\\n",
      "1                            Dead Souls  2012   \n",
      "2                                 Ghoul  2012   \n",
      "3                               Beneath  2013   \n",
      "4   Chilling Visions : 5 Senses of Fear  2013   \n",
      "5                     The Monkey 's Paw  2013   \n",
      "6                                Animal  2014   \n",
      "7                  Deep in the Darkness  2014   \n",
      "8                               The Boy  2015   \n",
      "9                                 SiREN  2016   \n",
      "10                       Camera Obscura  2017   \n",
      "11                          Dementia 13  2017   \n",
      "\n",
      "                                                   Production Co  \n",
      "0                                 Chiller Films Brainstorm Media  \n",
      "1                            Chiller Films Synthetic Productions  \n",
      "2                                       Chiller Films Modernciné  \n",
      "3                                                  Glass Eye Pix  \n",
      "4                   Chiller Films Synthetic Cinema International  \n",
      "5                                                      TMP Films  \n",
      "6                    Flower Films Synthetic Cinema International  \n",
      "7                   Chiller Films Synthetic Cinema International  \n",
      "8                                                  SpectreVision  \n",
      "9                                                       Studio71  \n",
      "10  Chiller Films Hood River Entertainment Paper Street Pictures  \n",
      "11                            Pipeline Entertainment Haloran LLC  },\n",
      "    {   'answer': 'Animal',\n",
      "        'context':                                   Title  Year   \n",
      "0                   The American Scream  2012  \\\n",
      "1                            Dead Souls  2012   \n",
      "2                                 Ghoul  2012   \n",
      "3                               Beneath  2013   \n",
      "4   Chilling Visions : 5 Senses of Fear  2013   \n",
      "5                     The Monkey 's Paw  2013   \n",
      "6                                Animal  2014   \n",
      "7                  Deep in the Darkness  2014   \n",
      "8                               The Boy  2015   \n",
      "9                                 SiREN  2016   \n",
      "10                       Camera Obscura  2017   \n",
      "11                          Dementia 13  2017   \n",
      "\n",
      "                                                   Production Co  \n",
      "0                                 Chiller Films Brainstorm Media  \n",
      "1                            Chiller Films Synthetic Productions  \n",
      "2                                       Chiller Films Modernciné  \n",
      "3                                                  Glass Eye Pix  \n",
      "4                   Chiller Films Synthetic Cinema International  \n",
      "5                                                      TMP Films  \n",
      "6                    Flower Films Synthetic Cinema International  \n",
      "7                   Chiller Films Synthetic Cinema International  \n",
      "8                                                  SpectreVision  \n",
      "9                                                       Studio71  \n",
      "10  Chiller Films Hood River Entertainment Paper Street Pictures  \n",
      "11                            Pipeline Entertainment Haloran LLC  },\n",
      "    {   'answer': '22',\n",
      "        'context':                                              Genre           Written by   \n",
      "0  Babies On Board 新生  DramaRomanceFamilyPregnancy  张彦平 Cheong Yan Peng  \\\n",
      "\n",
      "                          Directed by   \n",
      "0  卢燕金 Loo Yin Kam 陈稖元 Chen Bang Yuan  \\\n",
      "\n",
      "                                                                          Starring   \n",
      "0  Main Casts:Tay Ping Hui 郑斌辉 Jesseca Liu 刘子绚Ya Hui 雅慧 Supporting Casts: Mei X...  \\\n",
      "\n",
      "                                                      Opening theme   \n",
      "0  Accidents Other Than Love(爱以外的意外) by Lin Sitong and Tay Ping Hui  \\\n",
      "\n",
      "         Ending theme Country of origin Original language(s) No. of episodes   \n",
      "0  借来的亲人by Lin Sitong         Singapore              Chinese              22  \\\n",
      "\n",
      "              Executive producer(s)   \n",
      "0  Production   黄光荣 Wong Kuang Yong  \\\n",
      "\n",
      "                                    Running time            \n",
      "0  approx. 45 minutes (excluding advertisements)  Release  \\\n",
      "\n",
      "      Original network     Original release               \n",
      "0  Mediacorp Channel 8  7 May – 5 June 2018  Chronology  \\\n",
      "\n",
      "              Preceded by       Followed by  \n",
      "0  A Million Dollar Dream  Fifty & Fabulous  }]\n"
     ]
    }
   ],
   "source": [
    "print_answers(predictions, details=\"minimum\")"
   ]
  },
  {
   "cell_type": "code",
   "execution_count": 24,
   "metadata": {},
   "outputs": [],
   "source": [
    "from haystack import Label, MultiLabel, Answer\n",
    "\n",
    "\n",
    "def read_labels(filename, tables):\n",
    "    processed_labels = []\n",
    "    with open(filename) as labels:\n",
    "        labels = json.load(labels)\n",
    "        for table in tables:\n",
    "            if table.id not in labels:\n",
    "                continue\n",
    "            label = labels[table.id]\n",
    "            label = Label(\n",
    "                query=label[\"query\"],\n",
    "                document=table,\n",
    "                is_correct_answer=True,\n",
    "                is_correct_document=True,\n",
    "                answer=Answer(answer=label[\"answer\"]),\n",
    "                origin=\"gold-label\",\n",
    "            )\n",
    "            processed_labels.append(MultiLabel(labels=[label]))\n",
    "    return processed_labels\n",
    "\n",
    "\n",
    "table_labels = read_labels(f\"{doc_dir}/labels.json\", tables)\n",
    "passage_labels = read_labels(f\"{doc_dir}/labels.json\", passages)"
   ]
  },
  {
   "cell_type": "code",
   "execution_count": 25,
   "metadata": {},
   "outputs": [
    {
     "data": {
      "application/vnd.jupyter.widget-view+json": {
       "model_id": "731ba63e53e24ff8b31efa0498074690",
       "version_major": 2,
       "version_minor": 0
      },
      "text/plain": [
       "Batches:   0%|          | 0/1 [00:00<?, ?it/s]"
      ]
     },
     "metadata": {},
     "output_type": "display_data"
    },
    {
     "name": "stderr",
     "output_type": "stream",
     "text": [
      "/home/khoa/anaconda3/envs/haystack/lib/python3.10/site-packages/elasticsearch/connection/base.py:200: ElasticsearchWarning: Elasticsearch built-in security features are not enabled. Without authentication, your cluster could be accessible to anyone. See https://www.elastic.co/guide/en/elasticsearch/reference/7.17/security-minimal-setup.html to enable security.\n",
      "  warnings.warn(message, category=ElasticsearchWarning)\n"
     ]
    },
    {
     "data": {
      "application/vnd.jupyter.widget-view+json": {
       "model_id": "4b139507015145c6921fed909777f634",
       "version_major": 2,
       "version_minor": 0
      },
      "text/plain": [
       "Batches:   0%|          | 0/1 [00:00<?, ?it/s]"
      ]
     },
     "metadata": {},
     "output_type": "display_data"
    },
    {
     "name": "stderr",
     "output_type": "stream",
     "text": [
      "/home/khoa/anaconda3/envs/haystack/lib/python3.10/site-packages/elasticsearch/connection/base.py:200: ElasticsearchWarning: Elasticsearch built-in security features are not enabled. Without authentication, your cluster could be accessible to anyone. See https://www.elastic.co/guide/en/elasticsearch/reference/7.17/security-minimal-setup.html to enable security.\n",
      "  warnings.warn(message, category=ElasticsearchWarning)\n"
     ]
    },
    {
     "data": {
      "application/vnd.jupyter.widget-view+json": {
       "model_id": "e9407fc5f7884e0aac89385d7f40a9a6",
       "version_major": 2,
       "version_minor": 0
      },
      "text/plain": [
       "Batches:   0%|          | 0/1 [00:00<?, ?it/s]"
      ]
     },
     "metadata": {},
     "output_type": "display_data"
    },
    {
     "name": "stderr",
     "output_type": "stream",
     "text": [
      "/home/khoa/anaconda3/envs/haystack/lib/python3.10/site-packages/elasticsearch/connection/base.py:200: ElasticsearchWarning: Elasticsearch built-in security features are not enabled. Without authentication, your cluster could be accessible to anyone. See https://www.elastic.co/guide/en/elasticsearch/reference/7.17/security-minimal-setup.html to enable security.\n",
      "  warnings.warn(message, category=ElasticsearchWarning)\n"
     ]
    },
    {
     "data": {
      "application/vnd.jupyter.widget-view+json": {
       "model_id": "5c3229cdeba14a97b96fe33a7e1150ee",
       "version_major": 2,
       "version_minor": 0
      },
      "text/plain": [
       "Inferencing Samples:   0%|          | 0/1 [00:00<?, ? Batches/s]"
      ]
     },
     "metadata": {},
     "output_type": "display_data"
    },
    {
     "data": {
      "application/vnd.jupyter.widget-view+json": {
       "model_id": "99e5cb852bb04853b43b51a2678806e1",
       "version_major": 2,
       "version_minor": 0
      },
      "text/plain": [
       "Batches:   0%|          | 0/1 [00:00<?, ?it/s]"
      ]
     },
     "metadata": {},
     "output_type": "display_data"
    },
    {
     "name": "stderr",
     "output_type": "stream",
     "text": [
      "/home/khoa/anaconda3/envs/haystack/lib/python3.10/site-packages/elasticsearch/connection/base.py:200: ElasticsearchWarning: Elasticsearch built-in security features are not enabled. Without authentication, your cluster could be accessible to anyone. See https://www.elastic.co/guide/en/elasticsearch/reference/7.17/security-minimal-setup.html to enable security.\n",
      "  warnings.warn(message, category=ElasticsearchWarning)\n"
     ]
    },
    {
     "data": {
      "application/vnd.jupyter.widget-view+json": {
       "model_id": "ee67939d235e481b84e35cf088b9e178",
       "version_major": 2,
       "version_minor": 0
      },
      "text/plain": [
       "Batches:   0%|          | 0/1 [00:00<?, ?it/s]"
      ]
     },
     "metadata": {},
     "output_type": "display_data"
    },
    {
     "name": "stderr",
     "output_type": "stream",
     "text": [
      "/home/khoa/anaconda3/envs/haystack/lib/python3.10/site-packages/elasticsearch/connection/base.py:200: ElasticsearchWarning: Elasticsearch built-in security features are not enabled. Without authentication, your cluster could be accessible to anyone. See https://www.elastic.co/guide/en/elasticsearch/reference/7.17/security-minimal-setup.html to enable security.\n",
      "  warnings.warn(message, category=ElasticsearchWarning)\n"
     ]
    },
    {
     "data": {
      "application/vnd.jupyter.widget-view+json": {
       "model_id": "fa975a1fe22d4b509b8fbc6e5c7cb8ce",
       "version_major": 2,
       "version_minor": 0
      },
      "text/plain": [
       "Batches:   0%|          | 0/1 [00:00<?, ?it/s]"
      ]
     },
     "metadata": {},
     "output_type": "display_data"
    },
    {
     "name": "stderr",
     "output_type": "stream",
     "text": [
      "/home/khoa/anaconda3/envs/haystack/lib/python3.10/site-packages/elasticsearch/connection/base.py:200: ElasticsearchWarning: Elasticsearch built-in security features are not enabled. Without authentication, your cluster could be accessible to anyone. See https://www.elastic.co/guide/en/elasticsearch/reference/7.17/security-minimal-setup.html to enable security.\n",
      "  warnings.warn(message, category=ElasticsearchWarning)\n"
     ]
    },
    {
     "data": {
      "application/vnd.jupyter.widget-view+json": {
       "model_id": "a26cec928d644b69ac160c4b4483f29a",
       "version_major": 2,
       "version_minor": 0
      },
      "text/plain": [
       "Batches:   0%|          | 0/1 [00:00<?, ?it/s]"
      ]
     },
     "metadata": {},
     "output_type": "display_data"
    },
    {
     "name": "stderr",
     "output_type": "stream",
     "text": [
      "/home/khoa/anaconda3/envs/haystack/lib/python3.10/site-packages/elasticsearch/connection/base.py:200: ElasticsearchWarning: Elasticsearch built-in security features are not enabled. Without authentication, your cluster could be accessible to anyone. See https://www.elastic.co/guide/en/elasticsearch/reference/7.17/security-minimal-setup.html to enable security.\n",
      "  warnings.warn(message, category=ElasticsearchWarning)\n"
     ]
    },
    {
     "data": {
      "application/vnd.jupyter.widget-view+json": {
       "model_id": "3d3730d2ded544c1aa813082b11900ce",
       "version_major": 2,
       "version_minor": 0
      },
      "text/plain": [
       "Inferencing Samples:   0%|          | 0/1 [00:00<?, ? Batches/s]"
      ]
     },
     "metadata": {},
     "output_type": "display_data"
    },
    {
     "data": {
      "application/vnd.jupyter.widget-view+json": {
       "model_id": "e4fdca446fae4975a094a666084397f4",
       "version_major": 2,
       "version_minor": 0
      },
      "text/plain": [
       "Batches:   0%|          | 0/1 [00:00<?, ?it/s]"
      ]
     },
     "metadata": {},
     "output_type": "display_data"
    },
    {
     "name": "stderr",
     "output_type": "stream",
     "text": [
      "/home/khoa/anaconda3/envs/haystack/lib/python3.10/site-packages/elasticsearch/connection/base.py:200: ElasticsearchWarning: Elasticsearch built-in security features are not enabled. Without authentication, your cluster could be accessible to anyone. See https://www.elastic.co/guide/en/elasticsearch/reference/7.17/security-minimal-setup.html to enable security.\n",
      "  warnings.warn(message, category=ElasticsearchWarning)\n"
     ]
    },
    {
     "data": {
      "application/vnd.jupyter.widget-view+json": {
       "model_id": "2c94eb3ac191404dac0087c986b91325",
       "version_major": 2,
       "version_minor": 0
      },
      "text/plain": [
       "Inferencing Samples:   0%|          | 0/1 [00:00<?, ? Batches/s]"
      ]
     },
     "metadata": {},
     "output_type": "display_data"
    },
    {
     "data": {
      "application/vnd.jupyter.widget-view+json": {
       "model_id": "9b8fcb95ab1c481aa8048eaae3ede6aa",
       "version_major": 2,
       "version_minor": 0
      },
      "text/plain": [
       "Batches:   0%|          | 0/1 [00:00<?, ?it/s]"
      ]
     },
     "metadata": {},
     "output_type": "display_data"
    },
    {
     "name": "stderr",
     "output_type": "stream",
     "text": [
      "/home/khoa/anaconda3/envs/haystack/lib/python3.10/site-packages/elasticsearch/connection/base.py:200: ElasticsearchWarning: Elasticsearch built-in security features are not enabled. Without authentication, your cluster could be accessible to anyone. See https://www.elastic.co/guide/en/elasticsearch/reference/7.17/security-minimal-setup.html to enable security.\n",
      "  warnings.warn(message, category=ElasticsearchWarning)\n"
     ]
    },
    {
     "data": {
      "application/vnd.jupyter.widget-view+json": {
       "model_id": "98b498ca86f74d8d934c0c96b9710e3c",
       "version_major": 2,
       "version_minor": 0
      },
      "text/plain": [
       "Inferencing Samples:   0%|          | 0/1 [00:00<?, ? Batches/s]"
      ]
     },
     "metadata": {},
     "output_type": "display_data"
    },
    {
     "data": {
      "application/vnd.jupyter.widget-view+json": {
       "model_id": "bce98acfc7084301ab738ed859fe2a9c",
       "version_major": 2,
       "version_minor": 0
      },
      "text/plain": [
       "Batches:   0%|          | 0/1 [00:00<?, ?it/s]"
      ]
     },
     "metadata": {},
     "output_type": "display_data"
    },
    {
     "name": "stderr",
     "output_type": "stream",
     "text": [
      "/home/khoa/anaconda3/envs/haystack/lib/python3.10/site-packages/elasticsearch/connection/base.py:200: ElasticsearchWarning: Elasticsearch built-in security features are not enabled. Without authentication, your cluster could be accessible to anyone. See https://www.elastic.co/guide/en/elasticsearch/reference/7.17/security-minimal-setup.html to enable security.\n",
      "  warnings.warn(message, category=ElasticsearchWarning)\n"
     ]
    },
    {
     "data": {
      "application/vnd.jupyter.widget-view+json": {
       "model_id": "891349fc9e7e418babdc0c0bce3ab6ff",
       "version_major": 2,
       "version_minor": 0
      },
      "text/plain": [
       "Inferencing Samples:   0%|          | 0/1 [00:00<?, ? Batches/s]"
      ]
     },
     "metadata": {},
     "output_type": "display_data"
    },
    {
     "data": {
      "application/vnd.jupyter.widget-view+json": {
       "model_id": "9e3c6d5f25034404a244a130a012ade2",
       "version_major": 2,
       "version_minor": 0
      },
      "text/plain": [
       "Batches:   0%|          | 0/1 [00:00<?, ?it/s]"
      ]
     },
     "metadata": {},
     "output_type": "display_data"
    },
    {
     "name": "stderr",
     "output_type": "stream",
     "text": [
      "/home/khoa/anaconda3/envs/haystack/lib/python3.10/site-packages/elasticsearch/connection/base.py:200: ElasticsearchWarning: Elasticsearch built-in security features are not enabled. Without authentication, your cluster could be accessible to anyone. See https://www.elastic.co/guide/en/elasticsearch/reference/7.17/security-minimal-setup.html to enable security.\n",
      "  warnings.warn(message, category=ElasticsearchWarning)\n"
     ]
    },
    {
     "data": {
      "application/vnd.jupyter.widget-view+json": {
       "model_id": "49baf19b05fd4e56a7e07694adcdeb3c",
       "version_major": 2,
       "version_minor": 0
      },
      "text/plain": [
       "Inferencing Samples:   0%|          | 0/1 [00:00<?, ? Batches/s]"
      ]
     },
     "metadata": {},
     "output_type": "display_data"
    },
    {
     "data": {
      "application/vnd.jupyter.widget-view+json": {
       "model_id": "fe3d282c4ee949cb8d99aeacecbeaafc",
       "version_major": 2,
       "version_minor": 0
      },
      "text/plain": [
       "Batches:   0%|          | 0/1 [00:00<?, ?it/s]"
      ]
     },
     "metadata": {},
     "output_type": "display_data"
    },
    {
     "name": "stderr",
     "output_type": "stream",
     "text": [
      "/home/khoa/anaconda3/envs/haystack/lib/python3.10/site-packages/elasticsearch/connection/base.py:200: ElasticsearchWarning: Elasticsearch built-in security features are not enabled. Without authentication, your cluster could be accessible to anyone. See https://www.elastic.co/guide/en/elasticsearch/reference/7.17/security-minimal-setup.html to enable security.\n",
      "  warnings.warn(message, category=ElasticsearchWarning)\n"
     ]
    },
    {
     "data": {
      "application/vnd.jupyter.widget-view+json": {
       "model_id": "1287f657088c40a7b98def00bfbb689b",
       "version_major": 2,
       "version_minor": 0
      },
      "text/plain": [
       "Inferencing Samples:   0%|          | 0/1 [00:00<?, ? Batches/s]"
      ]
     },
     "metadata": {},
     "output_type": "display_data"
    },
    {
     "data": {
      "application/vnd.jupyter.widget-view+json": {
       "model_id": "7477dff0267c439bba454d6219483275",
       "version_major": 2,
       "version_minor": 0
      },
      "text/plain": [
       "Batches:   0%|          | 0/1 [00:00<?, ?it/s]"
      ]
     },
     "metadata": {},
     "output_type": "display_data"
    },
    {
     "name": "stderr",
     "output_type": "stream",
     "text": [
      "/home/khoa/anaconda3/envs/haystack/lib/python3.10/site-packages/elasticsearch/connection/base.py:200: ElasticsearchWarning: Elasticsearch built-in security features are not enabled. Without authentication, your cluster could be accessible to anyone. See https://www.elastic.co/guide/en/elasticsearch/reference/7.17/security-minimal-setup.html to enable security.\n",
      "  warnings.warn(message, category=ElasticsearchWarning)\n"
     ]
    },
    {
     "data": {
      "application/vnd.jupyter.widget-view+json": {
       "model_id": "665f15683a6f4103bd6fc2e4e8a6d992",
       "version_major": 2,
       "version_minor": 0
      },
      "text/plain": [
       "Inferencing Samples:   0%|          | 0/1 [00:00<?, ? Batches/s]"
      ]
     },
     "metadata": {},
     "output_type": "display_data"
    },
    {
     "data": {
      "application/vnd.jupyter.widget-view+json": {
       "model_id": "093e20c6db284ef7afc6693dd9bd6000",
       "version_major": 2,
       "version_minor": 0
      },
      "text/plain": [
       "Batches:   0%|          | 0/1 [00:00<?, ?it/s]"
      ]
     },
     "metadata": {},
     "output_type": "display_data"
    },
    {
     "name": "stderr",
     "output_type": "stream",
     "text": [
      "/home/khoa/anaconda3/envs/haystack/lib/python3.10/site-packages/elasticsearch/connection/base.py:200: ElasticsearchWarning: Elasticsearch built-in security features are not enabled. Without authentication, your cluster could be accessible to anyone. See https://www.elastic.co/guide/en/elasticsearch/reference/7.17/security-minimal-setup.html to enable security.\n",
      "  warnings.warn(message, category=ElasticsearchWarning)\n"
     ]
    },
    {
     "data": {
      "application/vnd.jupyter.widget-view+json": {
       "model_id": "c2c3b447498d464b991c1df050ee2074",
       "version_major": 2,
       "version_minor": 0
      },
      "text/plain": [
       "Inferencing Samples:   0%|          | 0/1 [00:00<?, ? Batches/s]"
      ]
     },
     "metadata": {},
     "output_type": "display_data"
    },
    {
     "data": {
      "application/vnd.jupyter.widget-view+json": {
       "model_id": "c438d4c93ce24f518c2eaf9e46be73af",
       "version_major": 2,
       "version_minor": 0
      },
      "text/plain": [
       "Batches:   0%|          | 0/1 [00:00<?, ?it/s]"
      ]
     },
     "metadata": {},
     "output_type": "display_data"
    },
    {
     "name": "stderr",
     "output_type": "stream",
     "text": [
      "/home/khoa/anaconda3/envs/haystack/lib/python3.10/site-packages/elasticsearch/connection/base.py:200: ElasticsearchWarning: Elasticsearch built-in security features are not enabled. Without authentication, your cluster could be accessible to anyone. See https://www.elastic.co/guide/en/elasticsearch/reference/7.17/security-minimal-setup.html to enable security.\n",
      "  warnings.warn(message, category=ElasticsearchWarning)\n"
     ]
    },
    {
     "data": {
      "application/vnd.jupyter.widget-view+json": {
       "model_id": "8fa748d61a8044909d1ba4faa1b662d1",
       "version_major": 2,
       "version_minor": 0
      },
      "text/plain": [
       "Inferencing Samples:   0%|          | 0/1 [00:00<?, ? Batches/s]"
      ]
     },
     "metadata": {},
     "output_type": "display_data"
    },
    {
     "data": {
      "application/vnd.jupyter.widget-view+json": {
       "model_id": "de87243e8edc4ffeb8061191975bcd88",
       "version_major": 2,
       "version_minor": 0
      },
      "text/plain": [
       "Batches:   0%|          | 0/1 [00:00<?, ?it/s]"
      ]
     },
     "metadata": {},
     "output_type": "display_data"
    },
    {
     "name": "stderr",
     "output_type": "stream",
     "text": [
      "/home/khoa/anaconda3/envs/haystack/lib/python3.10/site-packages/elasticsearch/connection/base.py:200: ElasticsearchWarning: Elasticsearch built-in security features are not enabled. Without authentication, your cluster could be accessible to anyone. See https://www.elastic.co/guide/en/elasticsearch/reference/7.17/security-minimal-setup.html to enable security.\n",
      "  warnings.warn(message, category=ElasticsearchWarning)\n"
     ]
    },
    {
     "data": {
      "application/vnd.jupyter.widget-view+json": {
       "model_id": "df7623ab21c44004ba0da907e4989456",
       "version_major": 2,
       "version_minor": 0
      },
      "text/plain": [
       "Inferencing Samples:   0%|          | 0/1 [00:00<?, ? Batches/s]"
      ]
     },
     "metadata": {},
     "output_type": "display_data"
    },
    {
     "data": {
      "application/vnd.jupyter.widget-view+json": {
       "model_id": "a071e0a411c84edc872ba8a65f732983",
       "version_major": 2,
       "version_minor": 0
      },
      "text/plain": [
       "Batches:   0%|          | 0/1 [00:00<?, ?it/s]"
      ]
     },
     "metadata": {},
     "output_type": "display_data"
    },
    {
     "name": "stderr",
     "output_type": "stream",
     "text": [
      "/home/khoa/anaconda3/envs/haystack/lib/python3.10/site-packages/elasticsearch/connection/base.py:200: ElasticsearchWarning: Elasticsearch built-in security features are not enabled. Without authentication, your cluster could be accessible to anyone. See https://www.elastic.co/guide/en/elasticsearch/reference/7.17/security-minimal-setup.html to enable security.\n",
      "  warnings.warn(message, category=ElasticsearchWarning)\n"
     ]
    },
    {
     "data": {
      "application/vnd.jupyter.widget-view+json": {
       "model_id": "91739b16b46343b4b62e9eb1e1be6bf4",
       "version_major": 2,
       "version_minor": 0
      },
      "text/plain": [
       "Inferencing Samples:   0%|          | 0/1 [00:00<?, ? Batches/s]"
      ]
     },
     "metadata": {},
     "output_type": "display_data"
    },
    {
     "data": {
      "application/vnd.jupyter.widget-view+json": {
       "model_id": "82ef475cbb8e45589782099c1db2d777",
       "version_major": 2,
       "version_minor": 0
      },
      "text/plain": [
       "Batches:   0%|          | 0/1 [00:00<?, ?it/s]"
      ]
     },
     "metadata": {},
     "output_type": "display_data"
    },
    {
     "name": "stderr",
     "output_type": "stream",
     "text": [
      "/home/khoa/anaconda3/envs/haystack/lib/python3.10/site-packages/elasticsearch/connection/base.py:200: ElasticsearchWarning: Elasticsearch built-in security features are not enabled. Without authentication, your cluster could be accessible to anyone. See https://www.elastic.co/guide/en/elasticsearch/reference/7.17/security-minimal-setup.html to enable security.\n",
      "  warnings.warn(message, category=ElasticsearchWarning)\n"
     ]
    },
    {
     "data": {
      "application/vnd.jupyter.widget-view+json": {
       "model_id": "855289e63f7146fca4813b2154c31fff",
       "version_major": 2,
       "version_minor": 0
      },
      "text/plain": [
       "Inferencing Samples:   0%|          | 0/1 [00:00<?, ? Batches/s]"
      ]
     },
     "metadata": {},
     "output_type": "display_data"
    },
    {
     "data": {
      "application/vnd.jupyter.widget-view+json": {
       "model_id": "fbfc6b4fdaca4fa2a36f59695b436785",
       "version_major": 2,
       "version_minor": 0
      },
      "text/plain": [
       "Batches:   0%|          | 0/1 [00:00<?, ?it/s]"
      ]
     },
     "metadata": {},
     "output_type": "display_data"
    },
    {
     "name": "stderr",
     "output_type": "stream",
     "text": [
      "/home/khoa/anaconda3/envs/haystack/lib/python3.10/site-packages/elasticsearch/connection/base.py:200: ElasticsearchWarning: Elasticsearch built-in security features are not enabled. Without authentication, your cluster could be accessible to anyone. See https://www.elastic.co/guide/en/elasticsearch/reference/7.17/security-minimal-setup.html to enable security.\n",
      "  warnings.warn(message, category=ElasticsearchWarning)\n"
     ]
    },
    {
     "data": {
      "application/vnd.jupyter.widget-view+json": {
       "model_id": "3c8e258e6bd440ff8da101bb76d98b72",
       "version_major": 2,
       "version_minor": 0
      },
      "text/plain": [
       "Inferencing Samples:   0%|          | 0/1 [00:00<?, ? Batches/s]"
      ]
     },
     "metadata": {},
     "output_type": "display_data"
    },
    {
     "data": {
      "application/vnd.jupyter.widget-view+json": {
       "model_id": "d3eed46aa8154627adaec7ccc9fa78ab",
       "version_major": 2,
       "version_minor": 0
      },
      "text/plain": [
       "Batches:   0%|          | 0/1 [00:00<?, ?it/s]"
      ]
     },
     "metadata": {},
     "output_type": "display_data"
    },
    {
     "name": "stderr",
     "output_type": "stream",
     "text": [
      "/home/khoa/anaconda3/envs/haystack/lib/python3.10/site-packages/elasticsearch/connection/base.py:200: ElasticsearchWarning: Elasticsearch built-in security features are not enabled. Without authentication, your cluster could be accessible to anyone. See https://www.elastic.co/guide/en/elasticsearch/reference/7.17/security-minimal-setup.html to enable security.\n",
      "  warnings.warn(message, category=ElasticsearchWarning)\n"
     ]
    },
    {
     "data": {
      "application/vnd.jupyter.widget-view+json": {
       "model_id": "9ac9cca27c5b415b898bdb3d7914a3a7",
       "version_major": 2,
       "version_minor": 0
      },
      "text/plain": [
       "Inferencing Samples:   0%|          | 0/1 [00:00<?, ? Batches/s]"
      ]
     },
     "metadata": {},
     "output_type": "display_data"
    }
   ],
   "source": [
    "eval_results = text_table_qa_pipeline.eval(\n",
    "    table_labels + passage_labels, params={\"top_k\": 10}\n",
    ")"
   ]
  },
  {
   "cell_type": "code",
   "execution_count": 26,
   "metadata": {},
   "outputs": [
    {
     "name": "stdout",
     "output_type": "stream",
     "text": [
      "{'EmbeddingRetriever': {'recall_multi_hit': 0.3, 'recall_single_hit': 0.3, 'precision': 0.030000000000000006, 'map': 0.25833333333333336, 'mrr': 0.25833333333333336, 'ndcg': 0.2678103593554011}, 'TextReader': {'exact_match': 0.0, 'f1': 0.03666666666666667, 'num_examples_for_eval': 20.0}, 'TableReader': {'exact_match': 0.05, 'f1': 0.07857142857142858, 'num_examples_for_eval': 20.0}, 'JoinAnswers': {'exact_match': 0.05, 'f1': 0.09857142857142857, 'num_examples_for_eval': 20.0}}\n"
     ]
    }
   ],
   "source": [
    "print(eval_results.calculate_metrics())"
   ]
  }
 ],
 "metadata": {
  "kernelspec": {
   "display_name": "haystack",
   "language": "python",
   "name": "python3"
  },
  "language_info": {
   "codemirror_mode": {
    "name": "ipython",
    "version": 3
   },
   "file_extension": ".py",
   "mimetype": "text/x-python",
   "name": "python",
   "nbconvert_exporter": "python",
   "pygments_lexer": "ipython3",
   "version": "3.10.11"
  },
  "orig_nbformat": 4
 },
 "nbformat": 4,
 "nbformat_minor": 2
}
